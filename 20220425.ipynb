{
  "nbformat": 4,
  "nbformat_minor": 0,
  "metadata": {
    "colab": {
      "name": "20220425.ipynb",
      "provenance": [],
      "authorship_tag": "ABX9TyPBfIaY4Mt7RZKbMXTdC99y",
      "include_colab_link": true
    },
    "kernelspec": {
      "name": "python3",
      "display_name": "Python 3"
    },
    "language_info": {
      "name": "python"
    }
  },
  "cells": [
    {
      "cell_type": "markdown",
      "metadata": {
        "id": "view-in-github",
        "colab_type": "text"
      },
      "source": [
        "<a href=\"https://colab.research.google.com/github/ShinSoonJong/Class2022Spring/blob/main/20220425.ipynb\" target=\"_parent\"><img src=\"https://colab.research.google.com/assets/colab-badge.svg\" alt=\"Open In Colab\"/></a>"
      ]
    },
    {
      "cell_type": "markdown",
      "source": [
        "# Auto Correlation  \n",
        "\n",
        "\n",
        "\n",
        "*  Auto Correlation은 serial correlation으로 알려진 것이다. \n",
        "*  delay 함수로써의 지연된 복사본과 signal의 correlation이라고 볼 수 있다.  \n",
        "\n",
        "\n",
        "\n"
      ],
      "metadata": {
        "id": "_48RLi2_vM5R"
      }
    },
    {
      "cell_type": "markdown",
      "source": [
        "# Root mean Square  \n",
        "\n",
        "\n",
        "\n",
        "*   수학의 학문에서 제곱평균제곱근 혹은 이차평균에 대해서는, 계속적으로 바뀌는 값에 대한 통계적인 척도라고 볼 수 있다. \n",
        "*   특히 Root mean Square은 sine 함수처럼 variable들이 양과 음을 옯겨다닐 때 도움이 되는 개념이라고 볼 수 있다. \n",
        "\n"
      ],
      "metadata": {
        "id": "ImNGWC-twKc0"
      }
    }
  ]
}