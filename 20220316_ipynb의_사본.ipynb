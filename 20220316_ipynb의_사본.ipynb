{
  "nbformat": 4,
  "nbformat_minor": 0,
  "metadata": {
    "colab": {
      "name": "20220316.ipynb의 사본",
      "provenance": [],
      "authorship_tag": "ABX9TyOxRCNQWGnovbHLRa5KIUBS",
      "include_colab_link": true
    },
    "kernelspec": {
      "name": "python3",
      "display_name": "Python 3"
    },
    "language_info": {
      "name": "python"
    }
  },
  "cells": [
    {
      "cell_type": "markdown",
      "metadata": {
        "id": "view-in-github",
        "colab_type": "text"
      },
      "source": [
        "<a href=\"https://colab.research.google.com/github/ShinSoonJong/Class2022Spring/blob/main/20220316_ipynb%EC%9D%98_%EC%82%AC%EB%B3%B8.ipynb\" target=\"_parent\"><img src=\"https://colab.research.google.com/assets/colab-badge.svg\" alt=\"Open In Colab\"/></a>"
      ]
    },
    {
      "cell_type": "markdown",
      "source": [
        "영어음성학 응용 복습 내용 정리 "
      ],
      "metadata": {
        "id": "Q4Na9gD9Qn6S"
      }
    },
    {
      "cell_type": "code",
      "execution_count": null,
      "metadata": {
        "id": "caCiX6RXO_-6"
      },
      "outputs": [],
      "source": [
        ""
      ]
    }
  ]
}