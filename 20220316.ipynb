{
  "nbformat": 4,
  "nbformat_minor": 0,
  "metadata": {
    "colab": {
      "name": "20220316.ipynb의 사본의 사본",
      "provenance": [],
      "authorship_tag": "ABX9TyNlZ+YkxWTbGaIzAkn1PAbv",
      "include_colab_link": true
    },
    "kernelspec": {
      "name": "python3",
      "display_name": "Python 3"
    },
    "language_info": {
      "name": "python"
    }
  },
  "cells": [
    {
      "cell_type": "markdown",
      "metadata": {
        "id": "view-in-github",
        "colab_type": "text"
      },
      "source": [
        "<a href=\"https://colab.research.google.com/github/ShinSoonJong/Class2022Spring/blob/main/20220316.ipynb\" target=\"_parent\"><img src=\"https://colab.research.google.com/assets/colab-badge.svg\" alt=\"Open In Colab\"/></a>"
      ]
    },
    {
      "cell_type": "markdown",
      "source": [
        "영어음성학 응용 복습 내용 정리 \n",
        "\n",
        "# 1, Variables \n",
        "\n",
        "변수는 number와 String으로 나뉘게 된다고 볼 수 있다. "
      ],
      "metadata": {
        "id": "Q4Na9gD9Qn6S"
      }
    },
    {
      "cell_type": "code",
      "execution_count": 2,
      "metadata": {
        "id": "caCiX6RXO_-6"
      },
      "outputs": [],
      "source": [
        "a=1 \n",
        "b=2 \n",
        "c=5 "
      ]
    },
    {
      "cell_type": "markdown",
      "source": [
        "a라는 변수에 1을 넣는다는 것을 의미하고, b라는 변수에 2를 넣는 것, c라는 변수에 \n",
        "\n",
        "5를 넣는 것을 의미한다고 볼 수 있다. "
      ],
      "metadata": {
        "id": "pptT6beKTMoq"
      }
    },
    {
      "cell_type": "code",
      "source": [
        "d=a+b+c "
      ],
      "metadata": {
        "id": "dZhCA41KTUTp"
      },
      "execution_count": 3,
      "outputs": []
    },
    {
      "cell_type": "markdown",
      "source": [
        "d라는 변수에 a+b+c를 넣는 것을 의미하는 것이다. "
      ],
      "metadata": {
        "id": "_82u4xR4Tsix"
      }
    },
    {
      "cell_type": "code",
      "source": [
        "a=1;  print(type(a)) "
      ],
      "metadata": {
        "colab": {
          "base_uri": "https://localhost:8080/"
        },
        "id": "xt2P2RtNT0y4",
        "outputId": "8939d1db-0d55-4c2f-e683-d847e7af1ad8"
      },
      "execution_count": 4,
      "outputs": [
        {
          "output_type": "stream",
          "name": "stdout",
          "text": [
            "<class 'int'>\n"
          ]
        }
      ]
    },
    {
      "cell_type": "markdown",
      "source": [
        "a라는 변수에 1이 들어가 있는 상태이며, print는 특정한 것을 인쇄하여 나타내주는 것을 의미하게 된다. 따라서, a의 타입은 int으로 나타나게 되며, 정수를 의미하게 된다. "
      ],
      "metadata": {
        "id": "FhJRBZDVU5Wy"
      }
    },
    {
      "cell_type": "code",
      "source": [
        "a=1.1; print(type(a))"
      ],
      "metadata": {
        "colab": {
          "base_uri": "https://localhost:8080/"
        },
        "id": "cciGPN5IVM1x",
        "outputId": "06c2b4ca-c8a6-414d-d172-a32de8143406"
      },
      "execution_count": 5,
      "outputs": [
        {
          "output_type": "stream",
          "name": "stdout",
          "text": [
            "<class 'float'>\n"
          ]
        }
      ]
    },
    {
      "cell_type": "markdown",
      "source": [
        "a의 타입을 보여주고 있으며, float으로 나타나고 있는데, 실수를 의미하게 된다. "
      ],
      "metadata": {
        "id": "RkIHOwqMX3ar"
      }
    },
    {
      "cell_type": "code",
      "source": [
        "a= '123'; print(type(a)); print(a[1]) "
      ],
      "metadata": {
        "colab": {
          "base_uri": "https://localhost:8080/"
        },
        "id": "JOQP1vYCX-pT",
        "outputId": "966e371a-f5d6-4637-c128-7c5e58520c3a"
      },
      "execution_count": 6,
      "outputs": [
        {
          "output_type": "stream",
          "name": "stdout",
          "text": [
            "<class 'str'>\n",
            "2\n"
          ]
        }
      ]
    },
    {
      "cell_type": "markdown",
      "source": [
        "a라는 변수에 String을 넣는 것을 의미하고 있으며, 따라서, 타입은 String으로 나타나고, Python은 0번째부터 존재하는데, 첫 번째를 Print하므로, 2가 나타나게 된다. "
      ],
      "metadata": {
        "id": "PSNF3ss2YaZT"
      }
    },
    {
      "cell_type": "code",
      "source": [
        "a= [1, 2, 3, 4]; print(type(a)); print(a[0]) "
      ],
      "metadata": {
        "colab": {
          "base_uri": "https://localhost:8080/"
        },
        "id": "wTPFuN5YYnRy",
        "outputId": "89ab2b4c-7b79-42c9-debc-94971da2b202"
      },
      "execution_count": 7,
      "outputs": [
        {
          "output_type": "stream",
          "name": "stdout",
          "text": [
            "<class 'list'>\n",
            "1\n"
          ]
        }
      ]
    },
    {
      "cell_type": "markdown",
      "source": [
        "다음과 같이 여러개를 나열할 때는 List가 사용되며, Variables에는 number, String, List가 존재한다고 볼 수 있다. 따라서, type은 list이며, a의 0번째를 Print하기 때문에 1이 나타난다고 볼 수 있다. 다시 한번 기억하지만, Python은 0번째부터 시작한다. "
      ],
      "metadata": {
        "id": "W2g44YVAY-Wr"
      }
    },
    {
      "cell_type": "code",
      "source": [
        "a[1:2]"
      ],
      "metadata": {
        "colab": {
          "base_uri": "https://localhost:8080/"
        },
        "id": "fdDZDcnXZY3b",
        "outputId": "4439e0d9-48ec-48f4-be40-7d5c89e3089a"
      },
      "execution_count": 8,
      "outputs": [
        {
          "output_type": "execute_result",
          "data": {
            "text/plain": [
              "[2]"
            ]
          },
          "metadata": {},
          "execution_count": 8
        }
      ]
    },
    {
      "cell_type": "markdown",
      "source": [
        "1번째부터, 2번째까지를 나타내는 것인데, 2번째는 포함하지 않는 것을 의미한다. 따라서, 1번째인 2만 인쇄돼고 있는 것을 볼 수 있다. "
      ],
      "metadata": {
        "id": "M292uA5SZfc6"
      }
    },
    {
      "cell_type": "code",
      "source": [
        "a[2:]"
      ],
      "metadata": {
        "colab": {
          "base_uri": "https://localhost:8080/"
        },
        "id": "2Oev9HAZZoGC",
        "outputId": "138d3a96-bd12-4370-83d5-df1bd11fd966"
      },
      "execution_count": 9,
      "outputs": [
        {
          "output_type": "execute_result",
          "data": {
            "text/plain": [
              "[3, 4]"
            ]
          },
          "metadata": {},
          "execution_count": 9
        }
      ]
    },
    {
      "cell_type": "markdown",
      "source": [
        "2번째부터 끝까지를 인쇄해야 한다는 의미이므로, 3부터 끝에 있는 4까지 인쇄되고 있다. "
      ],
      "metadata": {
        "id": "FTpBKjYTZxPy"
      }
    },
    {
      "cell_type": "code",
      "source": [
        "a[2:-1]"
      ],
      "metadata": {
        "colab": {
          "base_uri": "https://localhost:8080/"
        },
        "id": "wfsqdIVYZ4tS",
        "outputId": "629b9047-e8fe-4343-d499-e36bbc87f7d6"
      },
      "execution_count": 10,
      "outputs": [
        {
          "output_type": "execute_result",
          "data": {
            "text/plain": [
              "[3]"
            ]
          },
          "metadata": {},
          "execution_count": 10
        }
      ]
    },
    {
      "cell_type": "markdown",
      "source": [
        "-1은 끝에 있는 것을 의미하므로 4를 나타낸다고 볼 수 있는데, 2번째부터 4까지를 의미한다. 하지만, 4는 포함하지 않기 때문에, 2 번째에 있는 3만 나타나고 있다. "
      ],
      "metadata": {
        "id": "iDviFSg9aCUS"
      }
    },
    {
      "cell_type": "code",
      "source": [
        "a=[1, 2, 3, 4, 5, 6, 7, 8, 9, 10]; print(type(a)); print(a[0]) "
      ],
      "metadata": {
        "colab": {
          "base_uri": "https://localhost:8080/"
        },
        "id": "InGC26TDaK7C",
        "outputId": "5b690e6d-b2ce-4226-9511-086bbb2041c4"
      },
      "execution_count": 11,
      "outputs": [
        {
          "output_type": "stream",
          "name": "stdout",
          "text": [
            "<class 'list'>\n",
            "1\n"
          ]
        }
      ]
    },
    {
      "cell_type": "markdown",
      "source": [
        "List가 나타나 있으며, 10개가 들어가 있고, type은 따라서 당연히 list로 나타나게 되며, a의 0번째를 Print함으로, 1이 나타나게 된다. "
      ],
      "metadata": {
        "id": "TWP2SLXxeqqj"
      }
    },
    {
      "cell_type": "code",
      "source": [
        "a[1:-1]"
      ],
      "metadata": {
        "colab": {
          "base_uri": "https://localhost:8080/"
        },
        "id": "8YkfDKMBe0F8",
        "outputId": "e7fc39fe-e578-49fe-f919-788ade9a93c9"
      },
      "execution_count": 12,
      "outputs": [
        {
          "output_type": "execute_result",
          "data": {
            "text/plain": [
              "[2, 3, 4, 5, 6, 7, 8, 9]"
            ]
          },
          "metadata": {},
          "execution_count": 12
        }
      ]
    },
    {
      "cell_type": "markdown",
      "source": [
        "1번째는 2이고, -1은 끝에 있는 10이다. 1 번째부터 -1까지를 의미하지만, -1에 있는 것은 포함하지 않기 때문에, 10은 포함하지 않는 것을 알 수 있다. 따라서, \n",
        "2부터 9까지 모두 Print되는 것을 알 수 있다. "
      ],
      "metadata": {
        "id": "eu_ZKncAe4aL"
      }
    },
    {
      "cell_type": "code",
      "source": [
        "a=[1, 'a', [3, '4']]; print(type(a)); print(a[0]); print(a[1]); print(a[2]); print(a[2][1]) "
      ],
      "metadata": {
        "colab": {
          "base_uri": "https://localhost:8080/"
        },
        "id": "enPEwPwdfJ1j",
        "outputId": "c9039c01-61a4-4441-9427-a7fae977538c"
      },
      "execution_count": 13,
      "outputs": [
        {
          "output_type": "stream",
          "name": "stdout",
          "text": [
            "<class 'list'>\n",
            "1\n",
            "a\n",
            "[3, '4']\n",
            "4\n"
          ]
        }
      ]
    },
    {
      "cell_type": "markdown",
      "source": [
        "a에 1이라는 Number, 'a' 라는 String, 그리고 마지막으로 List가 포함되어있는 것을 알 수 있다. 따라서, a의 0번째를 Pirnt하게 되면 당연히 처음 존재하는 1이 print되는 것을 알 수 있다. 1 번째는 a가 Print 되며, 2 번째는 List가 print되는 것을 알 수 있다.\n",
        " print(a[2][1]) 가 의미하는 것은 a의 2번째에 있는 List트 중에서 1번째를 Print하는 것이다. 따라서, a의 2번째는 List이므로, 그 list에서 1 번째인 4가 Print 되는 것을 확인할 수 있다. "
      ],
      "metadata": {
        "id": "3m5iRU9Jf0SO"
      }
    },
    {
      "cell_type": "code",
      "source": [
        "a = {\"a\": \"apple\", \"b\":\"orange\", \"c\":2014}\n",
        "print (type(a)) \n",
        "print (a[\"a\"])"
      ],
      "metadata": {
        "colab": {
          "base_uri": "https://localhost:8080/"
        },
        "id": "fDgQCSTQgbUl",
        "outputId": "0d0c1c6b-9c54-49b4-daaf-1e14ead6e2b1"
      },
      "execution_count": 15,
      "outputs": [
        {
          "output_type": "stream",
          "name": "stdout",
          "text": [
            "<class 'dict'>\n",
            "apple\n"
          ]
        }
      ]
    },
    {
      "cell_type": "markdown",
      "source": [
        "Variables에는 Number, String, List 외에 Dict가 존재한다. 따라서, a의 type Print하게 되면 Dict가 나타나게 된다. a 중에서 \"a\"를 프린트하면 당연히 \n",
        "apple이 나오게 되는 것이다. "
      ],
      "metadata": {
        "id": "kKreldo3hJIc"
      }
    },
    {
      "cell_type": "markdown",
      "source": [
        "# Variables에는 String이 있다.\n",
        "# 2,  String"
      ],
      "metadata": {
        "id": "KpliWz8rq0Ek"
      }
    },
    {
      "cell_type": "code",
      "source": [
        "s= 'abcdef'\n",
        "print(s[0], s[5], s[-1], s[-6]) \n",
        "print(s[1:3], s[1:], s[:3], s[:]) "
      ],
      "metadata": {
        "colab": {
          "base_uri": "https://localhost:8080/"
        },
        "id": "Poon6ONkj3Dk",
        "outputId": "0e36f859-d162-4c47-f7c6-98f904c5a8fa"
      },
      "execution_count": 17,
      "outputs": [
        {
          "output_type": "stream",
          "name": "stdout",
          "text": [
            "a f f a\n",
            "bc bcdef abc abcdef\n"
          ]
        }
      ]
    },
    {
      "cell_type": "markdown",
      "source": [
        "String이 나타나 있으며, -1은 끝에 있는 것을 나타나므로 f가 print 된다. -6은 -1부터 순서대로 왼쪽으로 가다보면, a가 되는 것을 알 수 있다. \n",
        ":3은 처음부터 3번째까지를 나타내는 것을 의미하는데, 3번째는 포함하지 않으므로, abc가 된다. :만 존재하게 되면 전체를 의미한다. "
      ],
      "metadata": {
        "id": "5vXoADhwrXAr"
      }
    },
    {
      "cell_type": "code",
      "source": [
        "n = [100, 200, 300]\n",
        "print(n[0], n[2], n[-1], n[-3]) \n",
        "print(n[1:2], n[1:], n[:2], n[:]) "
      ],
      "metadata": {
        "colab": {
          "base_uri": "https://localhost:8080/"
        },
        "id": "ETjQ3yDVr5VU",
        "outputId": "88312a27-2ce3-48ab-aa66-124fc911f8eb"
      },
      "execution_count": 18,
      "outputs": [
        {
          "output_type": "stream",
          "name": "stdout",
          "text": [
            "100 300 300 100\n",
            "[200] [200, 300] [100, 200] [100, 200, 300]\n"
          ]
        }
      ]
    },
    {
      "cell_type": "markdown",
      "source": [
        "list가 나타나있는 것을 알 수 있다. -1은 끝에 있는 것을 의미하고, -3은 따라서, 왼쪽으로 이동하면서 100이 된다. :만 있으면 역시 전체를 print하게 된다. "
      ],
      "metadata": {
        "id": "bfnR-nzMsQo8"
      }
    },
    {
      "cell_type": "code",
      "source": [
        "len(s)"
      ],
      "metadata": {
        "colab": {
          "base_uri": "https://localhost:8080/"
        },
        "id": "4HiImDLXsd_M",
        "outputId": "421548f8-3f65-4041-8793-0c9ebe0e2e89"
      },
      "execution_count": 19,
      "outputs": [
        {
          "output_type": "execute_result",
          "data": {
            "text/plain": [
              "6"
            ]
          },
          "metadata": {},
          "execution_count": 19
        }
      ]
    },
    {
      "cell_type": "markdown",
      "source": [
        "len이라는 함수를 길이를 나타낸다고 볼 수 있다. 따라서, Stirng의 길이는 6이라는 것을 알 수 있다. "
      ],
      "metadata": {
        "id": "055QJEaMtKCO"
      }
    },
    {
      "cell_type": "code",
      "source": [
        "s[1]+ s[3]+ s[4:]*10 "
      ],
      "metadata": {
        "colab": {
          "base_uri": "https://localhost:8080/",
          "height": 35
        },
        "id": "a45uGasWtP9k",
        "outputId": "4c357706-8e97-4529-ae7b-6eab47983d4b"
      },
      "execution_count": 21,
      "outputs": [
        {
          "output_type": "execute_result",
          "data": {
            "text/plain": [
              "'bdefefefefefefefefefef'"
            ],
            "application/vnd.google.colaboratory.intrinsic+json": {
              "type": "string"
            }
          },
          "metadata": {},
          "execution_count": 21
        }
      ]
    },
    {
      "cell_type": "markdown",
      "source": [
        "String에 있는 것들을 합치는 식이라고 볼 수 있다. 곱하기 10이 있으므로, ef를 10번 반복한다는 것을 알 수 있다. "
      ],
      "metadata": {
        "id": "9OvptZWXtZsT"
      }
    },
    {
      "cell_type": "code",
      "source": [
        "s.upper()"
      ],
      "metadata": {
        "colab": {
          "base_uri": "https://localhost:8080/",
          "height": 35
        },
        "id": "XGXRRMU1thgV",
        "outputId": "34ec48a1-fb5b-4854-cc36-1a4d6c6c7cd1"
      },
      "execution_count": 23,
      "outputs": [
        {
          "output_type": "execute_result",
          "data": {
            "text/plain": [
              "'ABCDEF'"
            ],
            "application/vnd.google.colaboratory.intrinsic+json": {
              "type": "string"
            }
          },
          "metadata": {},
          "execution_count": 23
        }
      ]
    },
    {
      "cell_type": "markdown",
      "source": [
        "함수를 쓸 때는 항상 괄호를 사용하는 것을 명심해야 하며, 해당 함수는 String을 대문자로 바꾸어주고 있음을 알 수 있다. "
      ],
      "metadata": {
        "id": "r0SiSi10tkfU"
      }
    },
    {
      "cell_type": "code",
      "source": [
        "s = ' this is a house built this year. n'"
      ],
      "metadata": {
        "id": "HY_eESiFuq7C"
      },
      "execution_count": 24,
      "outputs": []
    },
    {
      "cell_type": "markdown",
      "source": [
        "다음 전체 문장이 String이라는 것을 알 수 있다. "
      ],
      "metadata": {
        "id": "M-nhXxhAu8Rt"
      }
    },
    {
      "cell_type": "code",
      "source": [
        "result = s.find('house')\n",
        "result "
      ],
      "metadata": {
        "colab": {
          "base_uri": "https://localhost:8080/"
        },
        "id": "QLmzlG4Xu_tc",
        "outputId": "ace07e53-59b0-4cb3-bde8-c1e6cfd6db9d"
      },
      "execution_count": 26,
      "outputs": [
        {
          "output_type": "execute_result",
          "data": {
            "text/plain": [
              "11"
            ]
          },
          "metadata": {},
          "execution_count": 26
        }
      ]
    },
    {
      "cell_type": "markdown",
      "source": [
        "house를 찾는 함수인데, 11번째에 house가 등장한다는 것을 의미한다. this는 따라서, 1번째에 등장하므로 result는 1이 될 것임을 예측할 수 있다. "
      ],
      "metadata": {
        "id": "9ZvLIkiVvFw9"
      }
    },
    {
      "cell_type": "code",
      "source": [
        "s= s.strip()\n",
        "s"
      ],
      "metadata": {
        "colab": {
          "base_uri": "https://localhost:8080/",
          "height": 35
        },
        "id": "BXVBeGJbvNQb",
        "outputId": "f0f2c753-4984-4f18-94fe-cc01443f9061"
      },
      "execution_count": 28,
      "outputs": [
        {
          "output_type": "execute_result",
          "data": {
            "text/plain": [
              "'this is a house built this year. n'"
            ],
            "application/vnd.google.colaboratory.intrinsic+json": {
              "type": "string"
            }
          },
          "metadata": {},
          "execution_count": 28
        }
      ]
    },
    {
      "cell_type": "markdown",
      "source": [
        "white space를 제거하고 문장을 나타내주고 있다. "
      ],
      "metadata": {
        "id": "8_tdXpG0vWyE"
      }
    },
    {
      "cell_type": "code",
      "source": [
        "tokens = s.split()\n",
        "tokens "
      ],
      "metadata": {
        "colab": {
          "base_uri": "https://localhost:8080/"
        },
        "id": "o11F6BzOvZwV",
        "outputId": "968174a0-1174-4650-d7c4-ce5384c4bb95"
      },
      "execution_count": 32,
      "outputs": [
        {
          "output_type": "execute_result",
          "data": {
            "text/plain": [
              "['this', 'is', 'a', 'house', 'built', 'this', 'year.', 'n']"
            ]
          },
          "metadata": {},
          "execution_count": 32
        }
      ]
    },
    {
      "cell_type": "markdown",
      "source": [
        "문장에 있는 것을 쪼개어서 list로 나열해주는 함수이다. 이를 다시 문장으로 합칠 경우에는, join을 사용해주면 되고, 다시 원래 문장으로 되돌릴 때는 replace를 사용해주면 된다고 볼 수 있다. "
      ],
      "metadata": {
        "id": "CxZYn0hivnxM"
      }
    },
    {
      "cell_type": "markdown",
      "source": [
        "# 3, Syntax \n",
        "syntax는 반복문과 조건문으로 나뉜다. 반복문에는 for이 사용되며, 조건문에는 if가 사용된다. 이것이 syntax의 전부라고 볼 수 있다. syntax에 대하여 자세하게 살펴보기 전, 함수에 대하여 간단히 정리해보자. "
      ],
      "metadata": {
        "id": "TYvwhGhgv8c0"
      }
    },
    {
      "cell_type": "code",
      "source": [
        "def add(a,b): \n",
        "  return a+b \n",
        "def subtract (a,b): \n",
        "  return a-b \n",
        "def multiply(a,b): \n",
        "  return a*b \n",
        "def divide(a,b): \n",
        "  return a/b "
      ],
      "metadata": {
        "id": "u9D70Ypaxq8r"
      },
      "execution_count": 44,
      "outputs": []
    },
    {
      "cell_type": "markdown",
      "source": [
        "def는 정의한다는 것을 의미한다. 즉, 함수를 정의하는 것이다. a,b를 add하여 return a+b라는 것을 출력한다는 것을 의미하게 된다. subract, multiply, divide 모두 마찬가지이다. "
      ],
      "metadata": {
        "id": "nQKGJYddx7R0"
      }
    },
    {
      "cell_type": "code",
      "source": [
        "c= add(1,2); print (c) \n",
        "c= subtract(1,2); print (c) \n",
        "c= multiply (1,2); print (c)\n",
        "c= divide(1,2); print(c)"
      ],
      "metadata": {
        "colab": {
          "base_uri": "https://localhost:8080/"
        },
        "id": "AirGwqpDyGB8",
        "outputId": "ed41ce75-1bde-4ab5-f00d-fa158a411bec"
      },
      "execution_count": 46,
      "outputs": [
        {
          "output_type": "stream",
          "name": "stdout",
          "text": [
            "3\n",
            "-1\n",
            "2\n",
            "0.5\n"
          ]
        }
      ]
    },
    {
      "cell_type": "markdown",
      "source": [
        "함수가 정의된 후에, 사칙연산이 수행되고 결과가 나온다는 것을 알 수 있다. "
      ],
      "metadata": {
        "id": "HAgi5D9KyvCU"
      }
    },
    {
      "cell_type": "code",
      "source": [
        "a = [1, 2, 3, 4 ] \n",
        "for i in a: \n",
        "      print(i)"
      ],
      "metadata": {
        "colab": {
          "base_uri": "https://localhost:8080/"
        },
        "id": "rrAllPuNz9DU",
        "outputId": "d4d12248-422a-42b5-fcdf-35bb55ed91c4"
      },
      "execution_count": 47,
      "outputs": [
        {
          "output_type": "stream",
          "name": "stdout",
          "text": [
            "1\n",
            "2\n",
            "3\n",
            "4\n"
          ]
        }
      ]
    },
    {
      "cell_type": "markdown",
      "source": [
        "for은 우선 반복하는 것을 의미한다고 볼 수 있다. in 을 먼저 해석하게 되는데, a에서 i를 처음부터 반복해서 실행한다고 볼 수 있다. 한번씩 모두 print하므로 1,2,3, 4가 출력되게 된다. "
      ],
      "metadata": {
        "id": "0OEB0UEt8gn-"
      }
    },
    {
      "cell_type": "code",
      "source": [
        "a= [1, 2, 3, 4]\n",
        "for i  in range(4):\n",
        "        print(a[i])"
      ],
      "metadata": {
        "colab": {
          "base_uri": "https://localhost:8080/"
        },
        "id": "9WJTgfl68tHN",
        "outputId": "fc085586-83aa-415b-e4a9-f585c132caae"
      },
      "execution_count": 50,
      "outputs": [
        {
          "output_type": "stream",
          "name": "stdout",
          "text": [
            "1\n",
            "2\n",
            "3\n",
            "4\n"
          ]
        }
      ]
    },
    {
      "cell_type": "markdown",
      "source": [
        "range는 [ 0, 1, 2, 3]으로 생각하면 쉽다. 이 4개의 숫자가 반복적으로 i에 들어가면서 출력이 되기 때문에, 결과적으로 1, 2, ,3 ,4 가 Print 되게 된다. "
      ],
      "metadata": {
        "id": "cXLE0RJW88wd"
      }
    },
    {
      "cell_type": "code",
      "source": [
        "a= [ 'red', 'green', 'blue', 'purple']\n",
        "for i in a : \n",
        "       print(i)"
      ],
      "metadata": {
        "colab": {
          "base_uri": "https://localhost:8080/"
        },
        "id": "YgHDauhU9ItE",
        "outputId": "1f169f61-958b-4849-ae8e-6e06dcd5e69e"
      },
      "execution_count": 51,
      "outputs": [
        {
          "output_type": "stream",
          "name": "stdout",
          "text": [
            "red\n",
            "green\n",
            "blue\n",
            "purple\n"
          ]
        }
      ]
    },
    {
      "cell_type": "markdown",
      "source": [
        "a에서 i가 처음부터 반복적으로 실행되기 때문에, red, green, blue, purple 모두 Print 되는 것을 알 수 있다. "
      ],
      "metadata": {
        "id": "jhFHrWyu9SqF"
      }
    },
    {
      "cell_type": "code",
      "source": [
        "a= [1, 2, 3, 4]\n",
        "for i  in  range(len(a)) : \n",
        "    print(a[i]) "
      ],
      "metadata": {
        "colab": {
          "base_uri": "https://localhost:8080/"
        },
        "id": "EJIIldUH9dv0",
        "outputId": "983c559d-24c7-4dd0-f93f-d4b3fa0169f0"
      },
      "execution_count": 53,
      "outputs": [
        {
          "output_type": "stream",
          "name": "stdout",
          "text": [
            "1\n",
            "2\n",
            "3\n",
            "4\n"
          ]
        }
      ]
    },
    {
      "cell_type": "markdown",
      "source": [
        "range를 조금더 고급적으로 표현하면 len 함수가 된다. 4번 반복적으로 실행되기 때문에, 최종적으로 1,2,3,4가 Print 되는 것이다. "
      ],
      "metadata": {
        "id": "rf17VkNX9pDU"
      }
    },
    {
      "cell_type": "code",
      "source": [
        "a = 0 \n",
        "if a == 0: \n",
        "         print (a)"
      ],
      "metadata": {
        "colab": {
          "base_uri": "https://localhost:8080/"
        },
        "id": "TNSwzP8z91b-",
        "outputId": "f28e8745-4496-4eba-f51a-6d9d46a9b147"
      },
      "execution_count": 55,
      "outputs": [
        {
          "output_type": "stream",
          "name": "stdout",
          "text": [
            "0\n"
          ]
        }
      ]
    },
    {
      "cell_type": "markdown",
      "source": [
        "a=0은  a가 0이라는 것이 아니다. a라는 변수에 0을 대입하는 것이다.  같다는 것을 나타내기 위해서는 ==를 써야 한다.  a==0이기 때문에 결과적으로 0이 Print 되는 것을 알 수 있다. "
      ],
      "metadata": {
        "id": "1pQj7L9AAaLE"
      }
    },
    {
      "cell_type": "code",
      "source": [
        "a = 0 \n",
        "if a == 0: \n",
        "      print(a) \n",
        "else: \n",
        "        print(a+1)"
      ],
      "metadata": {
        "colab": {
          "base_uri": "https://localhost:8080/"
        },
        "id": "8Lv3T585AnN9",
        "outputId": "1179651b-ce92-48f1-e865-1b0435fa816c"
      },
      "execution_count": 58,
      "outputs": [
        {
          "output_type": "stream",
          "name": "stdout",
          "text": [
            "0\n"
          ]
        }
      ]
    },
    {
      "cell_type": "markdown",
      "source": [
        "a가 0아닐 경우에는 a+1을 Print 하라는 것이 추가되었다. 만일 a가 아닐 경우 결과적으로 1이 Print될 것이고, a가 0이라면, 0이 Print될 것이다. "
      ],
      "metadata": {
        "id": "XPbK5FcuA3Ll"
      }
    },
    {
      "cell_type": "code",
      "source": [
        " for i in range (1,3): \n",
        "      for j in range (3, 5): \n",
        "          print (i*j)"
      ],
      "metadata": {
        "colab": {
          "base_uri": "https://localhost:8080/"
        },
        "id": "UxxTI9YTBEVV",
        "outputId": "5e0626ef-5e54-4b41-e79f-0ab1da225555"
      },
      "execution_count": 59,
      "outputs": [
        {
          "output_type": "stream",
          "name": "stdout",
          "text": [
            "3\n",
            "4\n",
            "6\n",
            "8\n"
          ]
        }
      ]
    },
    {
      "cell_type": "markdown",
      "source": [
        "range (1,3) 은 [ 1,2] 을 의미한다. 3번째는 포함하지 않는다.  range(3,5)는 따라서 [3,4] 을 의미하게 된다. 반복적으로 실행하는 for이 존재하기 때문에, \n",
        "나올 수 있는 곱의 경우의 수를 모두 print하게 되므로 3,4,6,8이 출력되게 된다. "
      ],
      "metadata": {
        "id": "IF5CKsr3BNx8"
      }
    },
    {
      "cell_type": "code",
      "source": [
        "for i in range (1, 3): \n",
        "    for j in range (3,5): \n",
        "        if j >=4: \n",
        "            print (i*j)"
      ],
      "metadata": {
        "colab": {
          "base_uri": "https://localhost:8080/"
        },
        "id": "HumUPpyLBtXN",
        "outputId": "64fd1190-5a60-40a5-cbf3-e44d64c5bd80"
      },
      "execution_count": 60,
      "outputs": [
        {
          "output_type": "stream",
          "name": "stdout",
          "text": [
            "4\n",
            "8\n"
          ]
        }
      ]
    },
    {
      "cell_type": "markdown",
      "source": [
        "if j>=4 는 j가 4보다 같거나 클 경우를 의미하는 것이다. \n",
        "range (1,3)은 [ 1,2 ] 을 의미하고, range (3,5)는 역시 [ 3,4]을 의미하기 때문에, \n",
        "j가 4보다 같거나 큰 경우는 4만 해당한다. 따라서, 나올 수 있는 경우의 수는 4, 8이기 때문에, 그 값이 Print 되게 된다. "
      ],
      "metadata": {
        "id": "vzlCwwW3B7WF"
      }
    },
    {
      "cell_type": "code",
      "source": [
        "a= ['red', 'green', 'blue', 'purple']\n",
        "b= [ i for i in a if len(i) >=4]\n",
        "b "
      ],
      "metadata": {
        "colab": {
          "base_uri": "https://localhost:8080/"
        },
        "id": "h1c0gDHkCQ_k",
        "outputId": "11b8bdda-8ce9-4f73-d160-4175e5c122d5"
      },
      "execution_count": 61,
      "outputs": [
        {
          "output_type": "execute_result",
          "data": {
            "text/plain": [
              "['green', 'blue', 'purple']"
            ]
          },
          "metadata": {},
          "execution_count": 61
        }
      ]
    },
    {
      "cell_type": "markdown",
      "source": [
        "list comprehension에 해당하며, 길이가 4랑 같거나 큰 경우만 출력되므로, 길이가 3인 red를 제외하고 모두 출력되는 것을 알 수 있다. "
      ],
      "metadata": {
        "id": "3nDiZAsPCg68"
      }
    },
    {
      "cell_type": "code",
      "source": [
        "a= [ 'red', 'green', 'blue', 'purple']\n",
        "b= [1,2,3,4]\n",
        "c= {a[i]:b[i] for i in range(4)}\n",
        "c "
      ],
      "metadata": {
        "colab": {
          "base_uri": "https://localhost:8080/"
        },
        "id": "nge9XARCCxqN",
        "outputId": "ee6e183c-7a14-4e65-f04b-a055ced30e30"
      },
      "execution_count": 63,
      "outputs": [
        {
          "output_type": "execute_result",
          "data": {
            "text/plain": [
              "{'blue': 3, 'green': 2, 'purple': 4, 'red': 1}"
            ]
          },
          "metadata": {},
          "execution_count": 63
        }
      ]
    },
    {
      "cell_type": "markdown",
      "source": [
        "dict comprehension에 해당하며, range 4는 [0,1,2,3] 인 것을 알 수 있다. \n",
        "따라서 그것을 하나하나씩 대입해보면, 4개의 출력값이 Print 되는 것을 알 수 있다. "
      ],
      "metadata": {
        "id": "uu5qqNcYDBqV"
      }
    }
  ]
}