{
  "nbformat": 4,
  "nbformat_minor": 0,
  "metadata": {
    "colab": {
      "name": "20220316.ipynb의 사본의 사본",
      "provenance": [],
      "authorship_tag": "ABX9TyNmNE+CFxXrt0Zz7DYZBSl8",
      "include_colab_link": true
    },
    "kernelspec": {
      "name": "python3",
      "display_name": "Python 3"
    },
    "language_info": {
      "name": "python"
    }
  },
  "cells": [
    {
      "cell_type": "markdown",
      "metadata": {
        "id": "view-in-github",
        "colab_type": "text"
      },
      "source": [
        "<a href=\"https://colab.research.google.com/github/ShinSoonJong/Class2022Spring/blob/main/20220316.ipynb\" target=\"_parent\"><img src=\"https://colab.research.google.com/assets/colab-badge.svg\" alt=\"Open In Colab\"/></a>"
      ]
    },
    {
      "cell_type": "markdown",
      "source": [
        "영어음성학 응용 복습 내용 정리 \n",
        "\n",
        "1, Variables \n",
        "\n",
        "변수는 number와 String으로 나뉘게 된다고 볼 수 있다. "
      ],
      "metadata": {
        "id": "Q4Na9gD9Qn6S"
      }
    },
    {
      "cell_type": "code",
      "execution_count": 1,
      "metadata": {
        "id": "caCiX6RXO_-6"
      },
      "outputs": [],
      "source": [
        "a=1 \n",
        "b=2 \n",
        "c=5 "
      ]
    },
    {
      "cell_type": "markdown",
      "source": [
        "a라는 변수에 1을 넣는다는 것을 의미하고, b라는 변수에 2를 넣는 것, c라는 변수에 \n",
        "\n",
        "5를 넣는 것을 의미한다고 볼 수 있다. "
      ],
      "metadata": {
        "id": "pptT6beKTMoq"
      }
    },
    {
      "cell_type": "code",
      "source": [
        "d=a+b+c "
      ],
      "metadata": {
        "id": "dZhCA41KTUTp"
      },
      "execution_count": 2,
      "outputs": []
    },
    {
      "cell_type": "markdown",
      "source": [
        "d라는 변수에 a+b+c를 넣는 것을 의미하는 것이다. "
      ],
      "metadata": {
        "id": "_82u4xR4Tsix"
      }
    },
    {
      "cell_type": "code",
      "source": [
        "a=1;  print(type(a)) "
      ],
      "metadata": {
        "colab": {
          "base_uri": "https://localhost:8080/"
        },
        "id": "xt2P2RtNT0y4",
        "outputId": "4b201030-22c0-4733-f21a-79716932c5f9"
      },
      "execution_count": 3,
      "outputs": [
        {
          "output_type": "stream",
          "name": "stdout",
          "text": [
            "<class 'int'>\n"
          ]
        }
      ]
    },
    {
      "cell_type": "markdown",
      "source": [
        "a라는 변수에 1이 들어가 있는 상태이며, print는 특정한 것을 인쇄하여 나타내주는 것을 의미하게 된다. 따라서, a의 타입은 int으로 나타나게 되며, 정수를 의미하게 된다. "
      ],
      "metadata": {
        "id": "FhJRBZDVU5Wy"
      }
    },
    {
      "cell_type": "code",
      "source": [
        "a=1.1; print(type(a))"
      ],
      "metadata": {
        "colab": {
          "base_uri": "https://localhost:8080/"
        },
        "id": "cciGPN5IVM1x",
        "outputId": "9598ec83-4e6e-4789-912a-1742d1a5995a"
      },
      "execution_count": 4,
      "outputs": [
        {
          "output_type": "stream",
          "name": "stdout",
          "text": [
            "<class 'float'>\n"
          ]
        }
      ]
    },
    {
      "cell_type": "markdown",
      "source": [
        "a의 타입을 보여주고 있으며, float으로 나타나고 있는데, 실수를 의미하게 된다. "
      ],
      "metadata": {
        "id": "RkIHOwqMX3ar"
      }
    },
    {
      "cell_type": "code",
      "source": [
        "a= '123'; print(type(a)); print(a[1]) "
      ],
      "metadata": {
        "colab": {
          "base_uri": "https://localhost:8080/"
        },
        "id": "JOQP1vYCX-pT",
        "outputId": "58a80426-5a59-4eb6-c7f0-e7695b456b2f"
      },
      "execution_count": 5,
      "outputs": [
        {
          "output_type": "stream",
          "name": "stdout",
          "text": [
            "<class 'str'>\n",
            "2\n"
          ]
        }
      ]
    },
    {
      "cell_type": "markdown",
      "source": [
        "a라는 변수에 String을 넣는 것을 의미하고 있으며, 따라서, 타입은 String으로 나타나고, Python은 0번째부터 존재하는데, 첫 번째를 Print하므로, 2가 나타나게 된다. "
      ],
      "metadata": {
        "id": "PSNF3ss2YaZT"
      }
    },
    {
      "cell_type": "code",
      "source": [
        "a= [1, 2, 3, 4]; print(type(a)); print(a[0]) "
      ],
      "metadata": {
        "colab": {
          "base_uri": "https://localhost:8080/"
        },
        "id": "wTPFuN5YYnRy",
        "outputId": "8d9492d0-e78f-40ce-f025-054a98b17a3c"
      },
      "execution_count": 6,
      "outputs": [
        {
          "output_type": "stream",
          "name": "stdout",
          "text": [
            "<class 'list'>\n",
            "1\n"
          ]
        }
      ]
    },
    {
      "cell_type": "markdown",
      "source": [
        "다음과 같이 여러개를 나열할 때는 List가 사용되며, Variables에는 number, String, List가 존재한다고 볼 수 있다. 따라서, type은 list이며, a의 0번째를 Print하기 때문에 1이 나타난다고 볼 수 있다. 다시 한번 기억하지만, Python은 0번째부터 시작한다. "
      ],
      "metadata": {
        "id": "W2g44YVAY-Wr"
      }
    },
    {
      "cell_type": "code",
      "source": [
        "a[1:2]"
      ],
      "metadata": {
        "colab": {
          "base_uri": "https://localhost:8080/"
        },
        "id": "fdDZDcnXZY3b",
        "outputId": "3c08f162-2b8c-44e5-cceb-6e55b79f2fc5"
      },
      "execution_count": 7,
      "outputs": [
        {
          "output_type": "execute_result",
          "data": {
            "text/plain": [
              "[2]"
            ]
          },
          "metadata": {},
          "execution_count": 7
        }
      ]
    },
    {
      "cell_type": "markdown",
      "source": [
        "1번째부터, 2번째까지를 나타내는 것인데, 2번째는 포함하지 않는 것을 의미한다. 따라서, 1번째인 2만 인쇄돼고 있는 것을 볼 수 있다. "
      ],
      "metadata": {
        "id": "M292uA5SZfc6"
      }
    },
    {
      "cell_type": "code",
      "source": [
        "a[2:]"
      ],
      "metadata": {
        "colab": {
          "base_uri": "https://localhost:8080/"
        },
        "id": "2Oev9HAZZoGC",
        "outputId": "b4bccfca-b01c-4cfe-b966-b7adb46ee7a6"
      },
      "execution_count": 8,
      "outputs": [
        {
          "output_type": "execute_result",
          "data": {
            "text/plain": [
              "[3, 4]"
            ]
          },
          "metadata": {},
          "execution_count": 8
        }
      ]
    },
    {
      "cell_type": "markdown",
      "source": [
        "2번째부터 끝까지를 인쇄해야 한다는 의미이므로, 3부터 끝에 있는 4까지 인쇄되고 있다. "
      ],
      "metadata": {
        "id": "FTpBKjYTZxPy"
      }
    },
    {
      "cell_type": "code",
      "source": [
        "a[2:-1]"
      ],
      "metadata": {
        "colab": {
          "base_uri": "https://localhost:8080/"
        },
        "id": "wfsqdIVYZ4tS",
        "outputId": "c1cfcd48-81fe-43e2-d775-8ba5de383322"
      },
      "execution_count": 9,
      "outputs": [
        {
          "output_type": "execute_result",
          "data": {
            "text/plain": [
              "[3]"
            ]
          },
          "metadata": {},
          "execution_count": 9
        }
      ]
    },
    {
      "cell_type": "markdown",
      "source": [
        "-1은 끝에 있는 것을 의미하므로 4를 나타낸다고 볼 수 있는데, 2번째부터 4까지를 의미한다. 하지만, 4는 포함하지 않기 때문에, 2 번째에 있는 3만 나타나고 있다. "
      ],
      "metadata": {
        "id": "iDviFSg9aCUS"
      }
    },
    {
      "cell_type": "code",
      "source": [
        "a=[1, 2, 3, 4, 5, 6, 7, 8, 9, 10]; print(type(a)); print(a[0]) "
      ],
      "metadata": {
        "colab": {
          "base_uri": "https://localhost:8080/"
        },
        "id": "InGC26TDaK7C",
        "outputId": "45d89a66-09af-42bc-d872-053e5e353457"
      },
      "execution_count": 10,
      "outputs": [
        {
          "output_type": "stream",
          "name": "stdout",
          "text": [
            "<class 'list'>\n",
            "1\n"
          ]
        }
      ]
    },
    {
      "cell_type": "markdown",
      "source": [
        "List가 나타나 있으며, 10개가 들어가 있고, type은 따라서 당연히 list로 나타나게 되며, a의 0번째를 Print함으로, 1이 나타나게 된다. "
      ],
      "metadata": {
        "id": "TWP2SLXxeqqj"
      }
    },
    {
      "cell_type": "code",
      "source": [
        "a[1:-1]"
      ],
      "metadata": {
        "colab": {
          "base_uri": "https://localhost:8080/"
        },
        "id": "8YkfDKMBe0F8",
        "outputId": "ae12feaf-a283-4238-a983-b0377a4f2608"
      },
      "execution_count": 11,
      "outputs": [
        {
          "output_type": "execute_result",
          "data": {
            "text/plain": [
              "[2, 3, 4, 5, 6, 7, 8, 9]"
            ]
          },
          "metadata": {},
          "execution_count": 11
        }
      ]
    },
    {
      "cell_type": "markdown",
      "source": [
        "1번째는 2이고, -1은 끝에 있는 10이다. 1 번째부터 -1까지를 의미하지만, -1에 있는 것은 포함하지 않기 때문에, 10은 포함하지 않는 것을 알 수 있다. 따라서, \n",
        "2부터 9까지 모두 Print되는 것을 알 수 있다. "
      ],
      "metadata": {
        "id": "eu_ZKncAe4aL"
      }
    },
    {
      "cell_type": "code",
      "source": [
        "a=[1, 'a', [3, '4']]; print(type(a)); print(a[0]); print(a[1]); print(a[2]); print(a[2][1]) "
      ],
      "metadata": {
        "colab": {
          "base_uri": "https://localhost:8080/"
        },
        "id": "enPEwPwdfJ1j",
        "outputId": "30b1cd8a-b64d-4583-c20f-fd72bea53814"
      },
      "execution_count": 15,
      "outputs": [
        {
          "output_type": "stream",
          "name": "stdout",
          "text": [
            "<class 'list'>\n",
            "1\n",
            "a\n",
            "[3, '4']\n",
            "4\n"
          ]
        }
      ]
    },
    {
      "cell_type": "markdown",
      "source": [
        "a에 1이라는 Number, 'a' 라는 String, 그리고 마지막으로 List가 포함되어있는 것을 알 수 있다. 따라서, a의 0번째를 Pirnt하게 되면 당연히 처음 존재하는 1이 print되는 것을 알 수 있다. 1 번째는 a가 Print 되며, 2 번째는 List가 print되는 것을 알 수 있다.\n",
        " print(a[2][1]) 가 의미하는 것은 a의 2번째에 있는 List트 중에서 1번째를 Print하는 것이다. 따라서, a의 2번째는 List이므로, 그 list에서 1 번째인 4가 Print 되는 것을 확인할 수 있다. "
      ],
      "metadata": {
        "id": "3m5iRU9Jf0SO"
      }
    },
    {
      "cell_type": "code",
      "source": [
        "a = {\"a\": \"apple\", \"b\":\"orange\", \"c\":2014}\n",
        "print (type(a)) \n",
        "print (a[\"a\"])"
      ],
      "metadata": {
        "colab": {
          "base_uri": "https://localhost:8080/"
        },
        "id": "fDgQCSTQgbUl",
        "outputId": "1f6fb8fb-00c7-4389-9f5e-44a45e5652ba"
      },
      "execution_count": 14,
      "outputs": [
        {
          "output_type": "stream",
          "name": "stdout",
          "text": [
            "<class 'dict'>\n",
            "apple\n"
          ]
        }
      ]
    },
    {
      "cell_type": "markdown",
      "source": [
        "Variables에는 Number, String, List 외에 Dict가 존재한다. 따라서, a의 type Print하게 되면 Dict가 나타나게 된다. a 중에서 \"a\"를 프린트하면 당연히 \n",
        "apple이 나오게 되는 것이다. "
      ],
      "metadata": {
        "id": "kKreldo3hJIc"
      }
    }
  ]
}