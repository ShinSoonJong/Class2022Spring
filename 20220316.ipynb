{
  "nbformat": 4,
  "nbformat_minor": 0,
  "metadata": {
    "colab": {
      "name": "20220316.ipynb의 사본의 사본",
      "provenance": [],
      "authorship_tag": "ABX9TyMu4o52Ru7r9O0dgKpavN11",
      "include_colab_link": true
    },
    "kernelspec": {
      "name": "python3",
      "display_name": "Python 3"
    },
    "language_info": {
      "name": "python"
    }
  },
  "cells": [
    {
      "cell_type": "markdown",
      "metadata": {
        "id": "view-in-github",
        "colab_type": "text"
      },
      "source": [
        "<a href=\"https://colab.research.google.com/github/ShinSoonJong/Class2022Spring/blob/main/20220316.ipynb\" target=\"_parent\"><img src=\"https://colab.research.google.com/assets/colab-badge.svg\" alt=\"Open In Colab\"/></a>"
      ]
    },
    {
      "cell_type": "markdown",
      "source": [
        "영어음성학 응용 복습 내용 정리 \n",
        "\n",
        "# 1, Variables \n",
        "\n",
        "변수는 number와 String으로 나뉘게 된다고 볼 수 있다. "
      ],
      "metadata": {
        "id": "Q4Na9gD9Qn6S"
      }
    },
    {
      "cell_type": "code",
      "execution_count": null,
      "metadata": {
        "id": "caCiX6RXO_-6"
      },
      "outputs": [],
      "source": [
        "a=1 \n",
        "b=2 \n",
        "c=5 "
      ]
    },
    {
      "cell_type": "markdown",
      "source": [
        "a라는 변수에 1을 넣는다는 것을 의미하고, b라는 변수에 2를 넣는 것, c라는 변수에 \n",
        "\n",
        "5를 넣는 것을 의미한다고 볼 수 있다. "
      ],
      "metadata": {
        "id": "pptT6beKTMoq"
      }
    },
    {
      "cell_type": "code",
      "source": [
        "d=a+b+c "
      ],
      "metadata": {
        "id": "dZhCA41KTUTp"
      },
      "execution_count": null,
      "outputs": []
    },
    {
      "cell_type": "markdown",
      "source": [
        "d라는 변수에 a+b+c를 넣는 것을 의미하는 것이다. "
      ],
      "metadata": {
        "id": "_82u4xR4Tsix"
      }
    },
    {
      "cell_type": "code",
      "source": [
        "a=1;  print(type(a)) "
      ],
      "metadata": {
        "colab": {
          "base_uri": "https://localhost:8080/"
        },
        "id": "xt2P2RtNT0y4",
        "outputId": "8939d1db-0d55-4c2f-e683-d847e7af1ad8"
      },
      "execution_count": null,
      "outputs": [
        {
          "output_type": "stream",
          "name": "stdout",
          "text": [
            "<class 'int'>\n"
          ]
        }
      ]
    },
    {
      "cell_type": "markdown",
      "source": [
        "a라는 변수에 1이 들어가 있는 상태이며, print는 특정한 것을 인쇄하여 나타내주는 것을 의미하게 된다. 따라서, a의 타입은 int으로 나타나게 되며, 정수를 의미하게 된다. "
      ],
      "metadata": {
        "id": "FhJRBZDVU5Wy"
      }
    },
    {
      "cell_type": "code",
      "source": [
        "a=1.1; print(type(a))"
      ],
      "metadata": {
        "colab": {
          "base_uri": "https://localhost:8080/"
        },
        "id": "cciGPN5IVM1x",
        "outputId": "06c2b4ca-c8a6-414d-d172-a32de8143406"
      },
      "execution_count": null,
      "outputs": [
        {
          "output_type": "stream",
          "name": "stdout",
          "text": [
            "<class 'float'>\n"
          ]
        }
      ]
    },
    {
      "cell_type": "markdown",
      "source": [
        "a의 타입을 보여주고 있으며, float으로 나타나고 있는데, 실수를 의미하게 된다. "
      ],
      "metadata": {
        "id": "RkIHOwqMX3ar"
      }
    },
    {
      "cell_type": "code",
      "source": [
        "a= '123'; print(type(a)); print(a[1]) "
      ],
      "metadata": {
        "colab": {
          "base_uri": "https://localhost:8080/"
        },
        "id": "JOQP1vYCX-pT",
        "outputId": "966e371a-f5d6-4637-c128-7c5e58520c3a"
      },
      "execution_count": null,
      "outputs": [
        {
          "output_type": "stream",
          "name": "stdout",
          "text": [
            "<class 'str'>\n",
            "2\n"
          ]
        }
      ]
    },
    {
      "cell_type": "markdown",
      "source": [
        "a라는 변수에 String을 넣는 것을 의미하고 있으며, 따라서, 타입은 String으로 나타나고, Python은 0번째부터 존재하는데, 첫 번째를 Print하므로, 2가 나타나게 된다. "
      ],
      "metadata": {
        "id": "PSNF3ss2YaZT"
      }
    },
    {
      "cell_type": "code",
      "source": [
        "a= [1, 2, 3, 4]; print(type(a)); print(a[0]) "
      ],
      "metadata": {
        "colab": {
          "base_uri": "https://localhost:8080/"
        },
        "id": "wTPFuN5YYnRy",
        "outputId": "89ab2b4c-7b79-42c9-debc-94971da2b202"
      },
      "execution_count": null,
      "outputs": [
        {
          "output_type": "stream",
          "name": "stdout",
          "text": [
            "<class 'list'>\n",
            "1\n"
          ]
        }
      ]
    },
    {
      "cell_type": "markdown",
      "source": [
        "다음과 같이 여러개를 나열할 때는 List가 사용되며, Variables에는 number, String, List가 존재한다고 볼 수 있다. 따라서, type은 list이며, a의 0번째를 Print하기 때문에 1이 나타난다고 볼 수 있다. 다시 한번 기억하지만, Python은 0번째부터 시작한다. "
      ],
      "metadata": {
        "id": "W2g44YVAY-Wr"
      }
    },
    {
      "cell_type": "code",
      "source": [
        "a[1:2]"
      ],
      "metadata": {
        "colab": {
          "base_uri": "https://localhost:8080/"
        },
        "id": "fdDZDcnXZY3b",
        "outputId": "4439e0d9-48ec-48f4-be40-7d5c89e3089a"
      },
      "execution_count": null,
      "outputs": [
        {
          "output_type": "execute_result",
          "data": {
            "text/plain": [
              "[2]"
            ]
          },
          "metadata": {},
          "execution_count": 8
        }
      ]
    },
    {
      "cell_type": "markdown",
      "source": [
        "1번째부터, 2번째까지를 나타내는 것인데, 2번째는 포함하지 않는 것을 의미한다. 따라서, 1번째인 2만 인쇄돼고 있는 것을 볼 수 있다. "
      ],
      "metadata": {
        "id": "M292uA5SZfc6"
      }
    },
    {
      "cell_type": "code",
      "source": [
        "a[2:]"
      ],
      "metadata": {
        "colab": {
          "base_uri": "https://localhost:8080/"
        },
        "id": "2Oev9HAZZoGC",
        "outputId": "138d3a96-bd12-4370-83d5-df1bd11fd966"
      },
      "execution_count": null,
      "outputs": [
        {
          "output_type": "execute_result",
          "data": {
            "text/plain": [
              "[3, 4]"
            ]
          },
          "metadata": {},
          "execution_count": 9
        }
      ]
    },
    {
      "cell_type": "markdown",
      "source": [
        "2번째부터 끝까지를 인쇄해야 한다는 의미이므로, 3부터 끝에 있는 4까지 인쇄되고 있다. "
      ],
      "metadata": {
        "id": "FTpBKjYTZxPy"
      }
    },
    {
      "cell_type": "code",
      "source": [
        "a[2:-1]"
      ],
      "metadata": {
        "colab": {
          "base_uri": "https://localhost:8080/"
        },
        "id": "wfsqdIVYZ4tS",
        "outputId": "629b9047-e8fe-4343-d499-e36bbc87f7d6"
      },
      "execution_count": null,
      "outputs": [
        {
          "output_type": "execute_result",
          "data": {
            "text/plain": [
              "[3]"
            ]
          },
          "metadata": {},
          "execution_count": 10
        }
      ]
    },
    {
      "cell_type": "markdown",
      "source": [
        "-1은 끝에 있는 것을 의미하므로 4를 나타낸다고 볼 수 있는데, 2번째부터 4까지를 의미한다. 하지만, 4는 포함하지 않기 때문에, 2 번째에 있는 3만 나타나고 있다. "
      ],
      "metadata": {
        "id": "iDviFSg9aCUS"
      }
    },
    {
      "cell_type": "code",
      "source": [
        "a=[1, 2, 3, 4, 5, 6, 7, 8, 9, 10]; print(type(a)); print(a[0]) "
      ],
      "metadata": {
        "colab": {
          "base_uri": "https://localhost:8080/"
        },
        "id": "InGC26TDaK7C",
        "outputId": "5b690e6d-b2ce-4226-9511-086bbb2041c4"
      },
      "execution_count": null,
      "outputs": [
        {
          "output_type": "stream",
          "name": "stdout",
          "text": [
            "<class 'list'>\n",
            "1\n"
          ]
        }
      ]
    },
    {
      "cell_type": "markdown",
      "source": [
        "List가 나타나 있으며, 10개가 들어가 있고, type은 따라서 당연히 list로 나타나게 되며, a의 0번째를 Print함으로, 1이 나타나게 된다. "
      ],
      "metadata": {
        "id": "TWP2SLXxeqqj"
      }
    },
    {
      "cell_type": "code",
      "source": [
        "a[1:-1]"
      ],
      "metadata": {
        "colab": {
          "base_uri": "https://localhost:8080/"
        },
        "id": "8YkfDKMBe0F8",
        "outputId": "e7fc39fe-e578-49fe-f919-788ade9a93c9"
      },
      "execution_count": null,
      "outputs": [
        {
          "output_type": "execute_result",
          "data": {
            "text/plain": [
              "[2, 3, 4, 5, 6, 7, 8, 9]"
            ]
          },
          "metadata": {},
          "execution_count": 12
        }
      ]
    },
    {
      "cell_type": "markdown",
      "source": [
        "1번째는 2이고, -1은 끝에 있는 10이다. 1 번째부터 -1까지를 의미하지만, -1에 있는 것은 포함하지 않기 때문에, 10은 포함하지 않는 것을 알 수 있다. 따라서, \n",
        "2부터 9까지 모두 Print되는 것을 알 수 있다. "
      ],
      "metadata": {
        "id": "eu_ZKncAe4aL"
      }
    },
    {
      "cell_type": "code",
      "source": [
        "a=[1, 'a', [3, '4']]; print(type(a)); print(a[0]); print(a[1]); print(a[2]); print(a[2][1]) "
      ],
      "metadata": {
        "colab": {
          "base_uri": "https://localhost:8080/"
        },
        "id": "enPEwPwdfJ1j",
        "outputId": "c9039c01-61a4-4441-9427-a7fae977538c"
      },
      "execution_count": null,
      "outputs": [
        {
          "output_type": "stream",
          "name": "stdout",
          "text": [
            "<class 'list'>\n",
            "1\n",
            "a\n",
            "[3, '4']\n",
            "4\n"
          ]
        }
      ]
    },
    {
      "cell_type": "markdown",
      "source": [
        "a에 1이라는 Number, 'a' 라는 String, 그리고 마지막으로 List가 포함되어있는 것을 알 수 있다. 따라서, a의 0번째를 Pirnt하게 되면 당연히 처음 존재하는 1이 print되는 것을 알 수 있다. 1 번째는 a가 Print 되며, 2 번째는 List가 print되는 것을 알 수 있다.\n",
        " print(a[2][1]) 가 의미하는 것은 a의 2번째에 있는 List 중에서 1번째를 Print하는 것이다. 따라서, a의 2번째는 List이므로, 그 list에서 1 번째인 4가 Print 되는 것을 확인할 수 있다. "
      ],
      "metadata": {
        "id": "3m5iRU9Jf0SO"
      }
    },
    {
      "cell_type": "code",
      "source": [
        "a = {\"a\": \"apple\", \"b\":\"orange\", \"c\":2014}\n",
        "print (type(a)) \n",
        "print (a[\"a\"])"
      ],
      "metadata": {
        "colab": {
          "base_uri": "https://localhost:8080/"
        },
        "id": "fDgQCSTQgbUl",
        "outputId": "0d0c1c6b-9c54-49b4-daaf-1e14ead6e2b1"
      },
      "execution_count": null,
      "outputs": [
        {
          "output_type": "stream",
          "name": "stdout",
          "text": [
            "<class 'dict'>\n",
            "apple\n"
          ]
        }
      ]
    },
    {
      "cell_type": "markdown",
      "source": [
        "Variables에는 Number, String, List 외에 Dict가 존재한다. 따라서, a의 type Print하게 되면 Dict가 나타나게 된다. a 중에서 \"a\"를 프린트하면 당연히 \n",
        "apple이 나오게 되는 것이다. "
      ],
      "metadata": {
        "id": "kKreldo3hJIc"
      }
    },
    {
      "cell_type": "markdown",
      "source": [
        "# Variables에는 String이 있다.\n",
        "# 2,  String"
      ],
      "metadata": {
        "id": "KpliWz8rq0Ek"
      }
    },
    {
      "cell_type": "code",
      "source": [
        "s= 'abcdef'\n",
        "print(s[0], s[5], s[-1], s[-6]) \n",
        "print(s[1:3], s[1:], s[:3], s[:]) "
      ],
      "metadata": {
        "colab": {
          "base_uri": "https://localhost:8080/"
        },
        "id": "Poon6ONkj3Dk",
        "outputId": "0e36f859-d162-4c47-f7c6-98f904c5a8fa"
      },
      "execution_count": null,
      "outputs": [
        {
          "output_type": "stream",
          "name": "stdout",
          "text": [
            "a f f a\n",
            "bc bcdef abc abcdef\n"
          ]
        }
      ]
    },
    {
      "cell_type": "markdown",
      "source": [
        "String이 나타나 있으며, -1은 끝에 있는 것을 나타나므로 f가 print 된다. -6은 -1부터 순서대로 왼쪽으로 가다보면, a가 되는 것을 알 수 있다. \n",
        ":3은 처음부터 3번째까지를 나타내는 것을 의미하는데, 3번째는 포함하지 않으므로, abc가 된다. :만 존재하게 되면 전체를 의미한다. "
      ],
      "metadata": {
        "id": "5vXoADhwrXAr"
      }
    },
    {
      "cell_type": "code",
      "source": [
        "n = [100, 200, 300]\n",
        "print(n[0], n[2], n[-1], n[-3]) \n",
        "print(n[1:2], n[1:], n[:2], n[:]) "
      ],
      "metadata": {
        "colab": {
          "base_uri": "https://localhost:8080/"
        },
        "id": "ETjQ3yDVr5VU",
        "outputId": "88312a27-2ce3-48ab-aa66-124fc911f8eb"
      },
      "execution_count": null,
      "outputs": [
        {
          "output_type": "stream",
          "name": "stdout",
          "text": [
            "100 300 300 100\n",
            "[200] [200, 300] [100, 200] [100, 200, 300]\n"
          ]
        }
      ]
    },
    {
      "cell_type": "markdown",
      "source": [
        "list가 나타나있는 것을 알 수 있다. -1은 끝에 있는 것을 의미하고, -3은 따라서, 왼쪽으로 이동하면서 100이 된다. :만 있으면 역시 전체를 print하게 된다. "
      ],
      "metadata": {
        "id": "bfnR-nzMsQo8"
      }
    },
    {
      "cell_type": "code",
      "source": [
        "len(s)"
      ],
      "metadata": {
        "colab": {
          "base_uri": "https://localhost:8080/"
        },
        "id": "4HiImDLXsd_M",
        "outputId": "421548f8-3f65-4041-8793-0c9ebe0e2e89"
      },
      "execution_count": null,
      "outputs": [
        {
          "output_type": "execute_result",
          "data": {
            "text/plain": [
              "6"
            ]
          },
          "metadata": {},
          "execution_count": 19
        }
      ]
    },
    {
      "cell_type": "markdown",
      "source": [
        "len이라는 함수를 길이를 나타낸다고 볼 수 있다. 따라서, Stirng의 길이는 6이라는 것을 알 수 있다. "
      ],
      "metadata": {
        "id": "055QJEaMtKCO"
      }
    },
    {
      "cell_type": "code",
      "source": [
        "s[1]+ s[3]+ s[4:]*10 "
      ],
      "metadata": {
        "colab": {
          "base_uri": "https://localhost:8080/",
          "height": 35
        },
        "id": "a45uGasWtP9k",
        "outputId": "4c357706-8e97-4529-ae7b-6eab47983d4b"
      },
      "execution_count": null,
      "outputs": [
        {
          "output_type": "execute_result",
          "data": {
            "text/plain": [
              "'bdefefefefefefefefefef'"
            ],
            "application/vnd.google.colaboratory.intrinsic+json": {
              "type": "string"
            }
          },
          "metadata": {},
          "execution_count": 21
        }
      ]
    },
    {
      "cell_type": "markdown",
      "source": [
        "String에 있는 것들을 합치는 식이라고 볼 수 있다. 곱하기 10이 있으므로, ef를 10번 반복한다는 것을 알 수 있다. "
      ],
      "metadata": {
        "id": "9OvptZWXtZsT"
      }
    },
    {
      "cell_type": "code",
      "source": [
        "s.upper()"
      ],
      "metadata": {
        "colab": {
          "base_uri": "https://localhost:8080/",
          "height": 35
        },
        "id": "XGXRRMU1thgV",
        "outputId": "34ec48a1-fb5b-4854-cc36-1a4d6c6c7cd1"
      },
      "execution_count": null,
      "outputs": [
        {
          "output_type": "execute_result",
          "data": {
            "text/plain": [
              "'ABCDEF'"
            ],
            "application/vnd.google.colaboratory.intrinsic+json": {
              "type": "string"
            }
          },
          "metadata": {},
          "execution_count": 23
        }
      ]
    },
    {
      "cell_type": "markdown",
      "source": [
        "함수를 쓸 때는 항상 괄호를 사용하는 것을 명심해야 하며, 해당 함수는 String을 대문자로 바꾸어주고 있음을 알 수 있다. "
      ],
      "metadata": {
        "id": "r0SiSi10tkfU"
      }
    },
    {
      "cell_type": "code",
      "source": [
        "s = ' this is a house built this year. n'"
      ],
      "metadata": {
        "id": "HY_eESiFuq7C"
      },
      "execution_count": null,
      "outputs": []
    },
    {
      "cell_type": "markdown",
      "source": [
        "다음 전체 문장이 String이라는 것을 알 수 있다. "
      ],
      "metadata": {
        "id": "M-nhXxhAu8Rt"
      }
    },
    {
      "cell_type": "code",
      "source": [
        "result = s.find('house')\n",
        "result "
      ],
      "metadata": {
        "colab": {
          "base_uri": "https://localhost:8080/"
        },
        "id": "QLmzlG4Xu_tc",
        "outputId": "ace07e53-59b0-4cb3-bde8-c1e6cfd6db9d"
      },
      "execution_count": null,
      "outputs": [
        {
          "output_type": "execute_result",
          "data": {
            "text/plain": [
              "11"
            ]
          },
          "metadata": {},
          "execution_count": 26
        }
      ]
    },
    {
      "cell_type": "markdown",
      "source": [
        "house를 찾는 함수인데, 11번째에 house가 등장한다는 것을 의미한다. this는 따라서, 1번째에 등장하므로 result는 1이 될 것임을 예측할 수 있다. "
      ],
      "metadata": {
        "id": "9ZvLIkiVvFw9"
      }
    },
    {
      "cell_type": "code",
      "source": [
        "s= s.strip()\n",
        "s"
      ],
      "metadata": {
        "colab": {
          "base_uri": "https://localhost:8080/",
          "height": 35
        },
        "id": "BXVBeGJbvNQb",
        "outputId": "f0f2c753-4984-4f18-94fe-cc01443f9061"
      },
      "execution_count": null,
      "outputs": [
        {
          "output_type": "execute_result",
          "data": {
            "text/plain": [
              "'this is a house built this year. n'"
            ],
            "application/vnd.google.colaboratory.intrinsic+json": {
              "type": "string"
            }
          },
          "metadata": {},
          "execution_count": 28
        }
      ]
    },
    {
      "cell_type": "markdown",
      "source": [
        "white space를 제거하고 문장을 나타내주고 있다. "
      ],
      "metadata": {
        "id": "8_tdXpG0vWyE"
      }
    },
    {
      "cell_type": "code",
      "source": [
        "tokens = s.split()\n",
        "tokens "
      ],
      "metadata": {
        "colab": {
          "base_uri": "https://localhost:8080/"
        },
        "id": "o11F6BzOvZwV",
        "outputId": "968174a0-1174-4650-d7c4-ce5384c4bb95"
      },
      "execution_count": null,
      "outputs": [
        {
          "output_type": "execute_result",
          "data": {
            "text/plain": [
              "['this', 'is', 'a', 'house', 'built', 'this', 'year.', 'n']"
            ]
          },
          "metadata": {},
          "execution_count": 32
        }
      ]
    },
    {
      "cell_type": "markdown",
      "source": [
        "문장에 있는 것을 쪼개어서 list로 나열해주는 함수이다. 이를 다시 문장으로 합칠 경우에는, join을 사용해주면 되고, 다시 원래 문장으로 되돌릴 때는 replace를 사용해주면 된다고 볼 수 있다. "
      ],
      "metadata": {
        "id": "CxZYn0hivnxM"
      }
    },
    {
      "cell_type": "markdown",
      "source": [
        "# 3, Syntax \n",
        "syntax는 반복문과 조건문으로 나뉜다. 반복문에는 for이 사용되며, 조건문에는 if가 사용된다. 이것이 syntax의 전부라고 볼 수 있다. syntax에 대하여 자세하게 살펴보기 전, 함수에 대하여 간단히 정리해보자. "
      ],
      "metadata": {
        "id": "TYvwhGhgv8c0"
      }
    },
    {
      "cell_type": "code",
      "source": [
        "def add(a,b): \n",
        "  return a+b \n",
        "def subtract (a,b): \n",
        "  return a-b \n",
        "def multiply(a,b): \n",
        "  return a*b \n",
        "def divide(a,b): \n",
        "  return a/b "
      ],
      "metadata": {
        "id": "u9D70Ypaxq8r"
      },
      "execution_count": null,
      "outputs": []
    },
    {
      "cell_type": "markdown",
      "source": [
        "def는 정의한다는 것을 의미한다. 즉, 함수를 정의하는 것이다. a,b를 add하여 return a+b라는 것을 출력한다는 것을 의미하게 된다. subract, multiply, divide 모두 마찬가지이다. "
      ],
      "metadata": {
        "id": "nQKGJYddx7R0"
      }
    },
    {
      "cell_type": "code",
      "source": [
        "c= add(1,2); print (c) \n",
        "c= subtract(1,2); print (c) \n",
        "c= multiply (1,2); print (c)\n",
        "c= divide(1,2); print(c)"
      ],
      "metadata": {
        "colab": {
          "base_uri": "https://localhost:8080/"
        },
        "id": "AirGwqpDyGB8",
        "outputId": "ed41ce75-1bde-4ab5-f00d-fa158a411bec"
      },
      "execution_count": null,
      "outputs": [
        {
          "output_type": "stream",
          "name": "stdout",
          "text": [
            "3\n",
            "-1\n",
            "2\n",
            "0.5\n"
          ]
        }
      ]
    },
    {
      "cell_type": "markdown",
      "source": [
        "함수가 정의된 후에, 사칙연산이 수행되고 결과가 나온다는 것을 알 수 있다. "
      ],
      "metadata": {
        "id": "HAgi5D9KyvCU"
      }
    },
    {
      "cell_type": "code",
      "source": [
        "a = [1, 2, 3, 4 ] \n",
        "for i in a: \n",
        "      print(i)"
      ],
      "metadata": {
        "colab": {
          "base_uri": "https://localhost:8080/"
        },
        "id": "rrAllPuNz9DU",
        "outputId": "d4d12248-422a-42b5-fcdf-35bb55ed91c4"
      },
      "execution_count": null,
      "outputs": [
        {
          "output_type": "stream",
          "name": "stdout",
          "text": [
            "1\n",
            "2\n",
            "3\n",
            "4\n"
          ]
        }
      ]
    },
    {
      "cell_type": "markdown",
      "source": [
        "for은 우선 반복하는 것을 의미한다고 볼 수 있다. in 을 먼저 해석하게 되는데, a에서 i를 처음부터 반복해서 실행한다고 볼 수 있다. 한번씩 모두 print하므로 1,2,3, 4가 출력되게 된다. "
      ],
      "metadata": {
        "id": "0OEB0UEt8gn-"
      }
    },
    {
      "cell_type": "code",
      "source": [
        "a= [1, 2, 3, 4]\n",
        "for i  in range(4):\n",
        "        print(a[i])"
      ],
      "metadata": {
        "colab": {
          "base_uri": "https://localhost:8080/"
        },
        "id": "9WJTgfl68tHN",
        "outputId": "d11d83a0-6817-44f5-f3ea-88a2b8a1733b"
      },
      "execution_count": 65,
      "outputs": [
        {
          "output_type": "stream",
          "name": "stdout",
          "text": [
            "1\n",
            "2\n",
            "3\n",
            "4\n"
          ]
        }
      ]
    },
    {
      "cell_type": "markdown",
      "source": [
        "range는 [ 0, 1, 2, 3]으로 생각하면 쉽다. 이 4개의 숫자가 반복적으로 i에 들어가면서 출력이 되기 때문에, 결과적으로 1, 2, ,3 ,4 가 Print 되게 된다. "
      ],
      "metadata": {
        "id": "cXLE0RJW88wd"
      }
    },
    {
      "cell_type": "code",
      "source": [
        "a= [ 'red', 'green', 'blue', 'purple']\n",
        "for i in a : \n",
        "       print(i)"
      ],
      "metadata": {
        "colab": {
          "base_uri": "https://localhost:8080/"
        },
        "id": "YgHDauhU9ItE",
        "outputId": "1f169f61-958b-4849-ae8e-6e06dcd5e69e"
      },
      "execution_count": null,
      "outputs": [
        {
          "output_type": "stream",
          "name": "stdout",
          "text": [
            "red\n",
            "green\n",
            "blue\n",
            "purple\n"
          ]
        }
      ]
    },
    {
      "cell_type": "markdown",
      "source": [
        "a에서 i가 처음부터 반복적으로 실행되기 때문에, red, green, blue, purple 모두 Print 되는 것을 알 수 있다. "
      ],
      "metadata": {
        "id": "jhFHrWyu9SqF"
      }
    },
    {
      "cell_type": "code",
      "source": [
        "a= [1, 2, 3, 4]\n",
        "for i  in  range(len(a)) : \n",
        "    print(a[i]) "
      ],
      "metadata": {
        "colab": {
          "base_uri": "https://localhost:8080/"
        },
        "id": "EJIIldUH9dv0",
        "outputId": "983c559d-24c7-4dd0-f93f-d4b3fa0169f0"
      },
      "execution_count": null,
      "outputs": [
        {
          "output_type": "stream",
          "name": "stdout",
          "text": [
            "1\n",
            "2\n",
            "3\n",
            "4\n"
          ]
        }
      ]
    },
    {
      "cell_type": "markdown",
      "source": [
        "range를 조금더 고급적으로 표현하면 len 함수가 된다. 4번 반복적으로 실행되기 때문에, 최종적으로 1,2,3,4가 Print 되는 것이다. "
      ],
      "metadata": {
        "id": "rf17VkNX9pDU"
      }
    },
    {
      "cell_type": "code",
      "source": [
        "a = 0 \n",
        "if a == 0: \n",
        "         print (a)"
      ],
      "metadata": {
        "colab": {
          "base_uri": "https://localhost:8080/"
        },
        "id": "TNSwzP8z91b-",
        "outputId": "f28e8745-4496-4eba-f51a-6d9d46a9b147"
      },
      "execution_count": null,
      "outputs": [
        {
          "output_type": "stream",
          "name": "stdout",
          "text": [
            "0\n"
          ]
        }
      ]
    },
    {
      "cell_type": "markdown",
      "source": [
        "a=0은  a가 0이라는 것이 아니다. a라는 변수에 0을 대입하는 것이다.  같다는 것을 나타내기 위해서는 ==를 써야 한다.  a==0이기 때문에 결과적으로 0이 Print 되는 것을 알 수 있다. "
      ],
      "metadata": {
        "id": "1pQj7L9AAaLE"
      }
    },
    {
      "cell_type": "code",
      "source": [
        "a = 0 \n",
        "if a == 0: \n",
        "      print(a) \n",
        "else: \n",
        "        print(a+1)"
      ],
      "metadata": {
        "colab": {
          "base_uri": "https://localhost:8080/"
        },
        "id": "8Lv3T585AnN9",
        "outputId": "1179651b-ce92-48f1-e865-1b0435fa816c"
      },
      "execution_count": null,
      "outputs": [
        {
          "output_type": "stream",
          "name": "stdout",
          "text": [
            "0\n"
          ]
        }
      ]
    },
    {
      "cell_type": "markdown",
      "source": [
        "a가 0아닐 경우에는 a+1을 Print 하라는 것이 추가되었다. 만일 a가 아닐 경우 결과적으로 1이 Print될 것이고, a가 0이라면, 0이 Print될 것이다. "
      ],
      "metadata": {
        "id": "XPbK5FcuA3Ll"
      }
    },
    {
      "cell_type": "code",
      "source": [
        " for i in range (1,3): \n",
        "      for j in range (3, 5): \n",
        "          print (i*j)"
      ],
      "metadata": {
        "colab": {
          "base_uri": "https://localhost:8080/"
        },
        "id": "UxxTI9YTBEVV",
        "outputId": "5e0626ef-5e54-4b41-e79f-0ab1da225555"
      },
      "execution_count": null,
      "outputs": [
        {
          "output_type": "stream",
          "name": "stdout",
          "text": [
            "3\n",
            "4\n",
            "6\n",
            "8\n"
          ]
        }
      ]
    },
    {
      "cell_type": "markdown",
      "source": [
        "range (1,3) 은 [ 1,2] 을 의미한다. 3번째는 포함하지 않는다.  range(3,5)는 따라서 [3,4] 을 의미하게 된다. 반복적으로 실행하는 for이 존재하기 때문에, \n",
        "나올 수 있는 곱의 경우의 수를 모두 print하게 되므로 3,4,6,8이 출력되게 된다. "
      ],
      "metadata": {
        "id": "IF5CKsr3BNx8"
      }
    },
    {
      "cell_type": "code",
      "source": [
        "for i in range (1, 3): \n",
        "    for j in range (3,5): \n",
        "        if j >=4: \n",
        "            print (i*j)"
      ],
      "metadata": {
        "colab": {
          "base_uri": "https://localhost:8080/"
        },
        "id": "HumUPpyLBtXN",
        "outputId": "64fd1190-5a60-40a5-cbf3-e44d64c5bd80"
      },
      "execution_count": null,
      "outputs": [
        {
          "output_type": "stream",
          "name": "stdout",
          "text": [
            "4\n",
            "8\n"
          ]
        }
      ]
    },
    {
      "cell_type": "markdown",
      "source": [
        "if j>=4 는 j가 4보다 같거나 클 경우를 의미하는 것이다. \n",
        "range (1,3)은 [ 1,2 ] 을 의미하고, range (3,5)는 역시 [ 3,4]을 의미하기 때문에, \n",
        "j가 4보다 같거나 큰 경우는 4만 해당한다. 따라서, 나올 수 있는 경우의 수는 4, 8이기 때문에, 그 값이 Print 되게 된다. "
      ],
      "metadata": {
        "id": "vzlCwwW3B7WF"
      }
    },
    {
      "cell_type": "code",
      "source": [
        "a= ['red', 'green', 'blue', 'purple']\n",
        "b= [ i for i in a if len(i) >=4]\n",
        "b "
      ],
      "metadata": {
        "colab": {
          "base_uri": "https://localhost:8080/"
        },
        "id": "h1c0gDHkCQ_k",
        "outputId": "11b8bdda-8ce9-4f73-d160-4175e5c122d5"
      },
      "execution_count": null,
      "outputs": [
        {
          "output_type": "execute_result",
          "data": {
            "text/plain": [
              "['green', 'blue', 'purple']"
            ]
          },
          "metadata": {},
          "execution_count": 61
        }
      ]
    },
    {
      "cell_type": "markdown",
      "source": [
        "list comprehension에 해당하며, 길이가 4랑 같거나 큰 경우만 출력되므로, 길이가 3인 red를 제외하고 모두 출력되는 것을 알 수 있다. "
      ],
      "metadata": {
        "id": "3nDiZAsPCg68"
      }
    },
    {
      "cell_type": "code",
      "source": [
        "a= [ 'red', 'green', 'blue', 'purple']\n",
        "b= [1,2,3,4]\n",
        "c= {a[i]:b[i] for i in range(4)}\n",
        "c "
      ],
      "metadata": {
        "colab": {
          "base_uri": "https://localhost:8080/"
        },
        "id": "nge9XARCCxqN",
        "outputId": "417e88ec-43c5-48d0-999d-5a47cd4604af"
      },
      "execution_count": 64,
      "outputs": [
        {
          "output_type": "execute_result",
          "data": {
            "text/plain": [
              "{'blue': 3, 'green': 2, 'purple': 4, 'red': 1}"
            ]
          },
          "metadata": {},
          "execution_count": 64
        }
      ]
    },
    {
      "cell_type": "markdown",
      "source": [
        "dict comprehension에 해당하며, range 4는 [0,1,2,3] 인 것을 알 수 있다. \n",
        "따라서 그것을 하나하나씩 대입해보면, 4개의 출력값이 Print 되는 것을 알 수 있다. \n",
        "예를 들어 { a[0]:b[0] } 은 'red:1 이 될 것이다. "
      ],
      "metadata": {
        "id": "uu5qqNcYDBqV"
      }
    },
    {
      "cell_type": "markdown",
      "source": [
        "# 4, Package \n",
        "다른 사람이 만들어 놓은 여러가지 package들이 존재한다. 이 package들을 사용하는 것이 목적인 것이다. 구글 컴퓨터를 이용하여 이 package를 사용하게 되는데, 3가지의 개념이 존재한다. \n",
        "1, install \n",
        "2, import \n",
        "3, built-in \n",
        "우선, install은 원래 없던 것을 설치하는 것을 의미한다. 우리가 요리할 때, 창고에도 없었던 package이기 때문에 새로 가져오는 것이고, import는 창고에는 있었던 package를 내 도마 앞으로 가져오는 것을 의미하고, built-in은 원래부터 내 도마 옆에서 음식을 요리할 준비가 되어 있었던 package를 의미하게 된다. "
      ],
      "metadata": {
        "id": "m4itaeW0EcDt"
      }
    },
    {
      "cell_type": "code",
      "source": [
        "import numpy "
      ],
      "metadata": {
        "id": "uUlRbUZIFcGd"
      },
      "execution_count": 68,
      "outputs": []
    },
    {
      "cell_type": "markdown",
      "source": [
        "numpy라는 package를 import 해오는 과정이다. "
      ],
      "metadata": {
        "id": "hT7pBUJFGjON"
      }
    },
    {
      "cell_type": "code",
      "source": [
        "numpy.random.randn(5)"
      ],
      "metadata": {
        "colab": {
          "base_uri": "https://localhost:8080/"
        },
        "id": "wpEo_0kiEfY6",
        "outputId": "5274e153-87bd-40f7-b24e-95459a3b3ff8"
      },
      "execution_count": 69,
      "outputs": [
        {
          "output_type": "execute_result",
          "data": {
            "text/plain": [
              "array([ 0.97981507,  0.24305135,  0.35599091, -2.05153748, -0.7173867 ])"
            ]
          },
          "metadata": {},
          "execution_count": 69
        }
      ]
    },
    {
      "cell_type": "markdown",
      "source": [
        "numpy라는 package 안에는 random이라는 디렉토리가 있고, 그 안에 5가지의 randn함수가 있는 것이다. 최종적으로 5가지의 임의의 숫자가 나타나고, 그들은 정규분포를 따른다고 볼 수 있다. "
      ],
      "metadata": {
        "id": "qqOhFn5jGxZu"
      }
    },
    {
      "cell_type": "code",
      "source": [
        "import numpy as np\n",
        "n = np.random.randn(100)"
      ],
      "metadata": {
        "id": "KFTMHe5hG6Yh"
      },
      "execution_count": 74,
      "outputs": []
    },
    {
      "cell_type": "markdown",
      "source": [
        "numpy가 길기 때문에, np로 줄여서 나타낼 수 있고, 100가지의 임의의 숫자를 n라는 변수를 만들어서 넣은 과정이라고 볼 수 있다. "
      ],
      "metadata": {
        "id": "OoyFXO3vHLEV"
      }
    },
    {
      "cell_type": "code",
      "source": [
        "import matplotlib\n",
        "matplotlib.pyplot.hist(n)"
      ],
      "metadata": {
        "colab": {
          "base_uri": "https://localhost:8080/",
          "height": 356
        },
        "id": "9EJwVo-iHYsd",
        "outputId": "b76dbdd0-c26f-46d4-d1c4-fb5d4f15b244"
      },
      "execution_count": 87,
      "outputs": [
        {
          "output_type": "execute_result",
          "data": {
            "text/plain": [
              "(array([ 2.,  7.,  9., 20., 19., 17., 11.,  8.,  6.,  1.]),\n",
              " array([-2.29150949, -1.79537132, -1.29923316, -0.803095  , -0.30695683,\n",
              "         0.18918133,  0.68531949,  1.18145766,  1.67759582,  2.17373398,\n",
              "         2.66987215]),\n",
              " <a list of 10 Patch objects>)"
            ]
          },
          "metadata": {},
          "execution_count": 87
        },
        {
          "output_type": "display_data",
          "data": {
            "text/plain": [
              "<Figure size 432x288 with 1 Axes>"
            ],
            "image/png": "[encoded data removed]"
          },
          "metadata": {
            "needs_background": "light"
          }
        }
      ]
    },
    {
      "cell_type": "markdown",
      "source": [
        "matplotlib는 유명한 package인데, 시각화해서 보여주는 package이다. 100가지의 임의의 숫자를 히스토그램을 활용하여 그림으로 보여주고 있는 것을 알 수 있다. matplotlib 안에 pyplot이라는 디렉토리가 있고, 그 안에 hist라는 함수가 존재한다. 그리고, 이 히스그램은은 0을 평균값으로 가지는 것을 알 수 있다. "
      ],
      "metadata": {
        "id": "-oZTpWMbJBmH"
      }
    },
    {
      "cell_type": "code",
      "source": [
        "import matplotlib.pyplot \n",
        "matplotlib.pyplot.hist(n)"
      ],
      "metadata": {
        "colab": {
          "base_uri": "https://localhost:8080/",
          "height": 356
        },
        "id": "HOVg8nr-JRVO",
        "outputId": "f6f4f7ea-45f3-4b02-b001-9c65f01979f3"
      },
      "execution_count": 86,
      "outputs": [
        {
          "output_type": "execute_result",
          "data": {
            "text/plain": [
              "(array([ 2.,  7.,  9., 20., 19., 17., 11.,  8.,  6.,  1.]),\n",
              " array([-2.29150949, -1.79537132, -1.29923316, -0.803095  , -0.30695683,\n",
              "         0.18918133,  0.68531949,  1.18145766,  1.67759582,  2.17373398,\n",
              "         2.66987215]),\n",
              " <a list of 10 Patch objects>)"
            ]
          },
          "metadata": {},
          "execution_count": 86
        },
        {
          "output_type": "display_data",
          "data": {
            "text/plain": [
              "<Figure size 432x288 with 1 Axes>"
            ],
            "image/png": "[encoded data removed]"
          },
          "metadata": {
            "needs_background": "light"
          }
        }
      ]
    },
    {
      "cell_type": "markdown",
      "source": [
        "이런 방식으로 그림을 불러올 수는 있지만, 너무 길기 때문에, 선호되는 방식은 아니라고 볼 수 있다. 축약해서 쓸 수 있는 방법이 존재하기 때문이다. "
      ],
      "metadata": {
        "id": "3sLfgKzIJdvl"
      }
    },
    {
      "cell_type": "code",
      "source": [
        "import matplotlib.pyplot as plt \n",
        "plt.hist(n)"
      ],
      "metadata": {
        "colab": {
          "base_uri": "https://localhost:8080/",
          "height": 356
        },
        "id": "ErgZtxymJlK2",
        "outputId": "6d340923-b848-491d-8802-cb2db9f09568"
      },
      "execution_count": 83,
      "outputs": [
        {
          "output_type": "execute_result",
          "data": {
            "text/plain": [
              "(array([ 2.,  7.,  9., 20., 19., 17., 11.,  8.,  6.,  1.]),\n",
              " array([-2.29150949, -1.79537132, -1.29923316, -0.803095  , -0.30695683,\n",
              "         0.18918133,  0.68531949,  1.18145766,  1.67759582,  2.17373398,\n",
              "         2.66987215]),\n",
              " <a list of 10 Patch objects>)"
            ]
          },
          "metadata": {},
          "execution_count": 83
        },
        {
          "output_type": "display_data",
          "data": {
            "text/plain": [
              "<Figure size 432x288 with 1 Axes>"
            ],
            "image/png": "[encoded data removed]"
          },
          "metadata": {
            "needs_background": "light"
          }
        }
      ]
    },
    {
      "cell_type": "markdown",
      "source": [
        "as plt를 사용하여 길이를 효과적으로 줄인 것을 알 수 있다. 길게 쓰는 것보다 이러한 방식이 더 효율적이라고 볼 수 있다. "
      ],
      "metadata": {
        "id": "hys86s5nJrR2"
      }
    },
    {
      "cell_type": "code",
      "source": [
        "from matplotlib import pyplot \n",
        "pyplot.hist(n)"
      ],
      "metadata": {
        "colab": {
          "base_uri": "https://localhost:8080/",
          "height": 356
        },
        "id": "MFa0jxO7JxJ-",
        "outputId": "e4e85f12-f821-4b2e-bb6f-b17238157c8d"
      },
      "execution_count": 84,
      "outputs": [
        {
          "output_type": "execute_result",
          "data": {
            "text/plain": [
              "(array([ 2.,  7.,  9., 20., 19., 17., 11.,  8.,  6.,  1.]),\n",
              " array([-2.29150949, -1.79537132, -1.29923316, -0.803095  , -0.30695683,\n",
              "         0.18918133,  0.68531949,  1.18145766,  1.67759582,  2.17373398,\n",
              "         2.66987215]),\n",
              " <a list of 10 Patch objects>)"
            ]
          },
          "metadata": {},
          "execution_count": 84
        },
        {
          "output_type": "display_data",
          "data": {
            "text/plain": [
              "<Figure size 432x288 with 1 Axes>"
            ],
            "image/png": "[encoded data removed]"
          },
          "metadata": {
            "needs_background": "light"
          }
        }
      ]
    },
    {
      "cell_type": "markdown",
      "source": [
        "다음과 같이 from을 활용하여 package를 불러올 수도 있다. "
      ],
      "metadata": {
        "id": "vhw7qYUNJ3AH"
      }
    },
    {
      "cell_type": "code",
      "source": [
        "from matplotlib.pyplot import hist \n",
        "hist(n)"
      ],
      "metadata": {
        "colab": {
          "base_uri": "https://localhost:8080/",
          "height": 356
        },
        "id": "r7ma5nbcJ6oG",
        "outputId": "6c97da48-1f85-4ffe-d4d3-b648310fd27c"
      },
      "execution_count": 85,
      "outputs": [
        {
          "output_type": "execute_result",
          "data": {
            "text/plain": [
              "(array([ 2.,  7.,  9., 20., 19., 17., 11.,  8.,  6.,  1.]),\n",
              " array([-2.29150949, -1.79537132, -1.29923316, -0.803095  , -0.30695683,\n",
              "         0.18918133,  0.68531949,  1.18145766,  1.67759582,  2.17373398,\n",
              "         2.66987215]),\n",
              " <a list of 10 Patch objects>)"
            ]
          },
          "metadata": {},
          "execution_count": 85
        },
        {
          "output_type": "display_data",
          "data": {
            "text/plain": [
              "<Figure size 432x288 with 1 Axes>"
            ],
            "image/png": "[encoded data removed]"
          },
          "metadata": {
            "needs_background": "light"
          }
        }
      ]
    },
    {
      "cell_type": "markdown",
      "source": [
        "다음과 같이 hist 함수를 불러올 수도 있다. "
      ],
      "metadata": {
        "id": "Sj--L57rKLhu"
      }
    },
    {
      "cell_type": "markdown",
      "source": [
        "# create nd arrays (matrices) \n",
        "matrix는 직사각형의 숫자 배열을 의미한다. nd는 n-dimension을 의미하는데, \n",
        "1d 부터 2d, 3d와 같은 직사각형의 숫자 배열을 우리는 만들게 될 것이다. "
      ],
      "metadata": {
        "id": "DezEEr6yM5J1"
      }
    },
    {
      "cell_type": "code",
      "source": [
        "import numpy as np "
      ],
      "metadata": {
        "id": "78Xxapg_KRwm"
      },
      "execution_count": 88,
      "outputs": []
    },
    {
      "cell_type": "code",
      "source": [
        "x= np.array([1,2,3])\n",
        "print(x)\n",
        "print(type(x)) \n",
        "print(x.shape)"
      ],
      "metadata": {
        "colab": {
          "base_uri": "https://localhost:8080/"
        },
        "id": "8jGaNVt4PAZ8",
        "outputId": "658f8ff9-031e-4158-ed21-6651399a6f11"
      },
      "execution_count": 90,
      "outputs": [
        {
          "output_type": "stream",
          "name": "stdout",
          "text": [
            "[1 2 3]\n",
            "<class 'numpy.ndarray'>\n",
            "(3,)\n"
          ]
        }
      ]
    },
    {
      "cell_type": "markdown",
      "source": [
        "List가 나타나 있는데, 이 List를 array로 바꾸어주는 과정이다. array로 바뀌어서 Print되고, ndarray에서 제공하는 특정한 변수라는 type을 가지고 있고, shape을 살펴보면 1d라는 것을 볼 수 있다. "
      ],
      "metadata": {
        "id": "bK6j5LIAPOsO"
      }
    },
    {
      "cell_type": "code",
      "source": [
        "x= np.arange(0,10,2)\n",
        "print(x)\n",
        "print(type(x))\n",
        "print(x.shape)"
      ],
      "metadata": {
        "colab": {
          "base_uri": "https://localhost:8080/"
        },
        "id": "SgdvtiSbPknB",
        "outputId": "214b7acd-4567-4113-a8f6-bb2c2b5380b6"
      },
      "execution_count": 91,
      "outputs": [
        {
          "output_type": "stream",
          "name": "stdout",
          "text": [
            "[0 2 4 6 8]\n",
            "<class 'numpy.ndarray'>\n",
            "(5,)\n"
          ]
        }
      ]
    },
    {
      "cell_type": "markdown",
      "source": [
        "0부터 10까지인데, 2는 increment을 의미한다. 10을 포함하지 않고, 0부터 2의 차이씩 나타내라는 것을 의미한다. 따라서 02468이 Print되는 것을 알 수 있다. shape 역시 (5,)로 되어 있는데, 5개가 들어 있는 1d array라는 것을 알 수 있다. "
      ],
      "metadata": {
        "id": "ClqoeoY3PsT2"
      }
    },
    {
      "cell_type": "code",
      "source": [
        "x= np.linspace(0,10,6)\n",
        "print (x)\n",
        "print (type(x))\n",
        "print (x.shape) "
      ],
      "metadata": {
        "colab": {
          "base_uri": "https://localhost:8080/"
        },
        "id": "ctSmjKC_QFL6",
        "outputId": "98c2064f-7312-4578-e605-73bce22b1294"
      },
      "execution_count": 93,
      "outputs": [
        {
          "output_type": "stream",
          "name": "stdout",
          "text": [
            "[ 0.  2.  4.  6.  8. 10.]\n",
            "<class 'numpy.ndarray'>\n",
            "(6,)\n"
          ]
        }
      ]
    },
    {
      "cell_type": "markdown",
      "source": [
        "linspace 역시 중요한 함수인데, 0부터 10까지를 동등하게 나누어서 6개로 나타내라는 것이다. 따라서, 0,2,4,6,8,10의 6가지 숫자가 나온 것이다. \n",
        "shape은 6가지의 1d array라는 것을 알 수 있다. "
      ],
      "metadata": {
        "id": "lUJGOX0oQenG"
      }
    },
    {
      "cell_type": "code",
      "source": [
        "x= np.array([[1,2,3], [4,5,6]]) \n",
        "print (x) \n",
        "print (type(x))\n",
        "print(x.shape) "
      ],
      "metadata": {
        "colab": {
          "base_uri": "https://localhost:8080/"
        },
        "id": "bJjB2HcmQsh3",
        "outputId": "acb7e902-f298-4ffd-daba-9fa30bf0fc4a"
      },
      "execution_count": 94,
      "outputs": [
        {
          "output_type": "stream",
          "name": "stdout",
          "text": [
            "[[1 2 3]\n",
            " [4 5 6]]\n",
            "<class 'numpy.ndarray'>\n",
            "(2, 3)\n"
          ]
        }
      ]
    },
    {
      "cell_type": "markdown",
      "source": [
        "리스트가 이중으로 되어 있는 것을 볼 수 있는데, Print하게 되면 이중으로 나타나게 되고, 따라서, shape은 2d라는 것을 알 수 있다. "
      ],
      "metadata": {
        "id": "TSYuGw-pRjL-"
      }
    },
    {
      "cell_type": "code",
      "source": [
        "x= np.array([[[1,2,3], [4,5,6]], [[7,8,9], [10,11,12]]]) \n",
        "print(x)\n",
        "print(type(x)) \n",
        "print(x.shape)\n",
        "             \n",
        "          "
      ],
      "metadata": {
        "colab": {
          "base_uri": "https://localhost:8080/"
        },
        "id": "SHtp991URp5-",
        "outputId": "4f8a798a-d172-4d7a-e91d-0b6f8c5e1f19"
      },
      "execution_count": 100,
      "outputs": [
        {
          "output_type": "stream",
          "name": "stdout",
          "text": [
            "[[[ 1  2  3]\n",
            "  [ 4  5  6]]\n",
            "\n",
            " [[ 7  8  9]\n",
            "  [10 11 12]]]\n",
            "<class 'numpy.ndarray'>\n",
            "(2, 2, 3)\n"
          ]
        }
      ]
    },
    {
      "cell_type": "markdown",
      "source": [
        "이번 array는 2중이 아닌 3d라는 것을 알 수 있다. 매우 중첩된 List이다. 따라서 shape을 살펴보면, 3개의 숫자가 나와 있는 것을 알 수 있다. \n"
      ],
      "metadata": {
        "id": "iGr6mW9-Sx8e"
      }
    },
    {
      "cell_type": "code",
      "source": [
        "x= np.ones([2,2,3]) \n",
        "print(x) \n",
        "print(type(x)) \n",
        "print(x.shape)"
      ],
      "metadata": {
        "colab": {
          "base_uri": "https://localhost:8080/"
        },
        "id": "CuLg9xd4S7Rf",
        "outputId": "59dd6b33-a25f-4129-ad9a-6dfdc0f6cb7e"
      },
      "execution_count": 101,
      "outputs": [
        {
          "output_type": "stream",
          "name": "stdout",
          "text": [
            "[[[1. 1. 1.]\n",
            "  [1. 1. 1.]]\n",
            "\n",
            " [[1. 1. 1.]\n",
            "  [1. 1. 1.]]]\n",
            "<class 'numpy.ndarray'>\n",
            "(2, 2, 3)\n"
          ]
        }
      ]
    },
    {
      "cell_type": "markdown",
      "source": [
        "array를 모두 1로 채워주는 함수이다. "
      ],
      "metadata": {
        "id": "UtcvJUHLTonn"
      }
    },
    {
      "cell_type": "code",
      "source": [
        "x=np.zeros([2,2,3]) \n",
        "print(x) \n",
        "print(type(x))\n",
        "print(x.shape) \n",
        "x.reshape(3,2,2) "
      ],
      "metadata": {
        "colab": {
          "base_uri": "https://localhost:8080/"
        },
        "id": "8s6mV30mTsLe",
        "outputId": "43ab997f-0b69-401a-8df1-94d3499649e3"
      },
      "execution_count": 102,
      "outputs": [
        {
          "output_type": "stream",
          "name": "stdout",
          "text": [
            "[[[0. 0. 0.]\n",
            "  [0. 0. 0.]]\n",
            "\n",
            " [[0. 0. 0.]\n",
            "  [0. 0. 0.]]]\n",
            "<class 'numpy.ndarray'>\n",
            "(2, 2, 3)\n"
          ]
        },
        {
          "output_type": "execute_result",
          "data": {
            "text/plain": [
              "array([[[0., 0.],\n",
              "        [0., 0.]],\n",
              "\n",
              "       [[0., 0.],\n",
              "        [0., 0.]],\n",
              "\n",
              "       [[0., 0.],\n",
              "        [0., 0.]]])"
            ]
          },
          "metadata": {},
          "execution_count": 102
        }
      ]
    },
    {
      "cell_type": "markdown",
      "source": [
        "숫자 배열을 모두 0으로 채워주는 함수이고, 3d 인 것을 알 수 있다. \n"
      ],
      "metadata": {
        "id": "iARgPZyET4z-"
      }
    },
    {
      "cell_type": "markdown",
      "source": [
        "# create random numbers "
      ],
      "metadata": {
        "id": "03i_mNDBUWD3"
      }
    },
    {
      "cell_type": "code",
      "source": [
        "np.random.normal(0,1, [2,3,4]) "
      ],
      "metadata": {
        "colab": {
          "base_uri": "https://localhost:8080/"
        },
        "id": "4fHqJ3eHT_vO",
        "outputId": "225eb8fd-49bf-4068-877f-9c34033c0fa6"
      },
      "execution_count": 105,
      "outputs": [
        {
          "output_type": "execute_result",
          "data": {
            "text/plain": [
              "array([[[-0.17912057, -0.81116953,  0.01836153, -0.53375484],\n",
              "        [-0.1464613 ,  1.02094813, -0.94853341, -2.58117945],\n",
              "        [-1.29077835, -0.48918816, -0.65949962,  1.33060161]],\n",
              "\n",
              "       [[-0.01336034, -1.38043068,  0.08317311, -0.20274249],\n",
              "        [ 0.43760944,  2.78195119, -0.50982229, -0.4355399 ],\n",
              "        [-0.85215538, -2.23044317, -0.45608205, -1.53337244]]])"
            ]
          },
          "metadata": {},
          "execution_count": 105
        }
      ]
    },
    {
      "cell_type": "markdown",
      "source": [
        "normal이라는 함수를 쓰면, normal distribution에 nd array를 만들어줄 수 있다. 쓰는 방법은 구글링을 통해 알 수 있다. 첫 번째 값은 평균 값(mean)을 넣고, 두 번째 값은 standard deviation을 넣는다. 그런데 [2,3,4] 의 형식으로 만드는 것이다. 따라서 3d이다. "
      ],
      "metadata": {
        "id": "HahIB_srUdm2"
      }
    },
    {
      "cell_type": "code",
      "source": [
        "import matplotlib.pyplot as plt "
      ],
      "metadata": {
        "id": "owjWiYSxVQl3"
      },
      "execution_count": 106,
      "outputs": []
    },
    {
      "cell_type": "code",
      "source": [
        "x = np.random.normal (0, 1, 100) \n",
        "print(x) \n",
        "plt.hist(x, bins=10 )"
      ],
      "metadata": {
        "colab": {
          "base_uri": "https://localhost:8080/",
          "height": 813
        },
        "id": "vXApCTe3WeYf",
        "outputId": "dd9fc255-a9f5-4f8a-a936-83f2b1972eba"
      },
      "execution_count": 108,
      "outputs": [
        {
          "output_type": "stream",
          "name": "stdout",
          "text": [
            "[ 4.30712072e-01  2.76254541e-01  1.53670662e+00 -2.75823670e-01\n",
            "  2.36385720e-01  5.51826455e-01 -7.27924467e-02 -1.73942286e+00\n",
            " -8.52259513e-02  8.57980186e-01 -1.17489228e+00  1.39361346e+00\n",
            "  4.13975653e-01  4.35882792e-01  1.61040915e+00  4.73956419e-01\n",
            "  4.29152065e-01 -8.13333015e-01 -1.76472140e-01  3.07501602e-01\n",
            " -2.75572369e-01 -8.00255231e-01 -3.07557286e-01 -2.33989562e-01\n",
            " -2.13048475e-01  2.09496934e+00 -2.59311389e-02 -9.99007816e-02\n",
            " -1.48948296e+00  9.42454958e-01  1.05487380e-01 -3.87022940e-01\n",
            "  1.69321735e-01  8.10774843e-01 -2.54925309e-01  2.72644582e-01\n",
            " -2.60187563e-01  4.42117404e-01 -1.54756436e+00  9.57877589e-01\n",
            "  1.71537519e-01 -7.25569682e-01  6.74412923e-01 -5.92352454e-01\n",
            "  8.23771468e-01 -1.00682933e+00 -1.44422678e+00  1.39079397e+00\n",
            "  1.72169483e-01  2.49855479e-01  5.08406210e-01  3.07596624e-01\n",
            " -6.45651010e-01 -9.20415758e-01  9.27140658e-01 -2.35731369e-01\n",
            " -4.08400351e-01  7.30583144e-01  1.26886819e+00 -1.54799599e+00\n",
            "  3.17891124e-01 -7.96970437e-01  1.66332186e+00 -1.63788270e-03\n",
            " -1.01601153e+00 -9.59567042e-01 -1.97635476e-02  5.32022186e-01\n",
            " -1.27525996e+00  6.75574321e-01  6.03497864e-01 -3.28175482e-02\n",
            "  3.00881807e-01 -1.17819566e+00  3.58611549e-01  3.75888479e-01\n",
            "  3.94328246e-01 -3.27836451e-01 -1.31577042e+00  4.06437902e-01\n",
            " -3.73077638e-01 -1.94663050e+00 -1.19408992e+00  1.16248826e+00\n",
            " -1.53204437e+00 -8.94042535e-01  8.24615338e-01  8.79365244e-01\n",
            "  5.85897490e-01  6.31085829e-01  9.60606409e-01 -1.09607315e-01\n",
            "  2.74363750e+00 -1.58271732e+00  4.55478913e-01 -2.14894470e+00\n",
            "  1.31409849e+00  8.33779513e-01 -7.95187555e-01 -9.94599804e-01]\n"
          ]
        },
        {
          "output_type": "execute_result",
          "data": {
            "text/plain": [
              "(array([ 3., 11., 11., 14., 17., 24., 12.,  6.,  1.,  1.]),\n",
              " array([-2.1489447 , -1.65968648, -1.17042826, -0.68117004, -0.19191182,\n",
              "         0.2973464 ,  0.78660462,  1.27586284,  1.76512106,  2.25437928,\n",
              "         2.7436375 ]),\n",
              " <a list of 10 Patch objects>)"
            ]
          },
          "metadata": {},
          "execution_count": 108
        },
        {
          "output_type": "display_data",
          "data": {
            "text/plain": [
              "<Figure size 432x288 with 1 Axes>"
            ],
            "image/png": "[encoded data removed]"
          },
          "metadata": {
            "needs_background": "light"
          }
        }
      ]
    },
    {
      "cell_type": "markdown",
      "source": [
        "np를 이용하여 100가지의 숫자를 나타내고 있다. 그런데, matplotlib에 있는 히스토그램을 활용하여 그림을 나타내고 있으며, 여기서 bins은 통을 의미하는데, 통 한개에 10가지의 숫자가 들어가는 것을 의미하게 된다. "
      ],
      "metadata": {
        "id": "1i2p7fpPWpKP"
      }
    },
    {
      "cell_type": "markdown",
      "source": [
        "# generate a sine curve "
      ],
      "metadata": {
        "id": "EHHlfHLdW_Lv"
      }
    },
    {
      "cell_type": "code",
      "source": [
        "plt.figure() \n",
        "\n",
        "theta1 = np.linspace (0, 2*np.pi, 100) \n",
        "s1 = np. sin(theta1) \n",
        "theta2 = np.linspace(0, 2*np.pi, 100)+ np.pi/2 \n",
        "s2= np.sin(theta2) \n",
        "\n",
        "plt.subplot(2,1,1) \n",
        "plt.plot(theta1, s1) \n",
        "plt.subplot(2,1,2) \n",
        "plt.plot(theta2, s2) "
      ],
      "metadata": {
        "colab": {
          "base_uri": "https://localhost:8080/",
          "height": 283
        },
        "id": "f6rbE4QfW7HJ",
        "outputId": "1c6c2a36-9575-4ceb-9f07-21f45566bb87"
      },
      "execution_count": 111,
      "outputs": [
        {
          "output_type": "execute_result",
          "data": {
            "text/plain": [
              "[<matplotlib.lines.Line2D at 0x7f200fd07290>]"
            ]
          },
          "metadata": {},
          "execution_count": 111
        },
        {
          "output_type": "display_data",
          "data": {
            "text/plain": [
              "<Figure size 432x288 with 2 Axes>"
            ],
            "image/png": "[encoded data removed]"
          },
          "metadata": {
            "needs_background": "light"
          }
        }
      ]
    },
    {
      "cell_type": "markdown",
      "source": [
        "figure는 틀을 만들어 주는 함수를 의미하며, linspace는 0부터 2*np.pi까지 100가지의 숫자를 나타내라는 것을 의미한다. 여기서 np.pi 값은 포함된다고 볼 수 있다. 그래프를 나타낼 때, theta 1은 x값이 되며, s는 y값이 된다. 특이한 점은, theta 2에서 np.pi가 2로 나뉜 값이 더해지는 것이다. 90도가 더해지는 것이다. \n",
        "subplot 함수를 통해서, 그래프를 나타내게 되고, row, columns, panel number 순으로 숫자가 표시되는 것을 볼 수 있다. "
      ],
      "metadata": {
        "id": "FqQrhZBraQ_w"
      }
    },
    {
      "cell_type": "code",
      "source": [
        "np.corrcoef(s1,s2)"
      ],
      "metadata": {
        "colab": {
          "base_uri": "https://localhost:8080/"
        },
        "id": "9acyxae4a0J4",
        "outputId": "727247a1-3d51-4208-d80a-c473416a37fc"
      },
      "execution_count": 113,
      "outputs": [
        {
          "output_type": "execute_result",
          "data": {
            "text/plain": [
              "array([[1.00000000e+00, 2.41915449e-17],\n",
              "       [2.41915449e-17, 1.00000000e+00]])"
            ]
          },
          "metadata": {},
          "execution_count": 113
        }
      ]
    },
    {
      "cell_type": "markdown",
      "source": [
        "s1을 영어 점수라 생각하고, s2를 수학점수라고 생각할 수 있는데, 이 둘 값의 상관관계를 correlation이라고 한다. 이 둘 값의 coef를 구하는 것이 목표이다. np를 활용하여 s1,s2의 상관관계를 알 수 있다. 그 결과값이 2.41915449e-17로 나타나는 것을 알 수 있는데, 0에 거의 수렴하는 값임을 알 수 있다. "
      ],
      "metadata": {
        "id": "FhECv9UecauS"
      }
    }
  ]
}