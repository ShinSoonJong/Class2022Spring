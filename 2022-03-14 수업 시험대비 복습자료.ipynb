{
  "nbformat": 4,
  "nbformat_minor": 0,
  "metadata": {
    "colab": {
      "name": "2022.03.14 수업",
      "provenance": [],
      "collapsed_sections": [],
      "authorship_tag": "ABX9TyONurwxMGtTdLgyA147q7Bf",
      "include_colab_link": true
    },
    "kernelspec": {
      "name": "python3",
      "display_name": "Python 3"
    },
    "language_info": {
      "name": "python"
    }
  },
  "cells": [
    {
      "cell_type": "markdown",
      "metadata": {
        "id": "view-in-github",
        "colab_type": "text"
      },
      "source": [
        "<a href=\"https://colab.research.google.com/github/ShinSoonJong/Class2022Spring/blob/main/2022-03-14%20%EC%88%98%EC%97%85%20%EC%8B%9C%ED%97%98%EB%8C%80%EB%B9%84%20%EB%B3%B5%EC%8A%B5%EC%9E%90%EB%A3%8C.ipynb\" target=\"_parent\"><img src=\"https://colab.research.google.com/assets/colab-badge.svg\" alt=\"Open In Colab\"/></a>"
      ]
    },
    {
      "cell_type": "markdown",
      "source": [
        "python의 기초에 대하여 이야기하고 있다. 변수, 함수, 패키지, 문법에 대하여 배우고 있다. 변수의 일부에 해당되는 string에 대하여 알아보자. string과 list의 유사성에 대하여 자세히도 알아보자. "
      ],
      "metadata": {
        "id": "79cnovIh6akA"
      }
    },
    {
      "cell_type": "code",
      "metadata": {
        "id": "zwpWU02YmAur",
        "outputId": "f132d9ac-0cdd-43e5-e0b8-ceeb8a51ceb9",
        "colab": {
          "base_uri": "https://localhost:8080/"
        }
      },
      "source": [
        "s = 'abcdef'\n",
        "print(s[0], s[5], s[-1], s[-6])\n",
        "print(s[1:3], s[1:], s[:3], s[:])"
      ],
      "execution_count": null,
      "outputs": [
        {
          "output_type": "stream",
          "name": "stdout",
          "text": [
            "a f f a\n",
            "bc bcdef abc abcdef\n"
          ]
        }
      ]
    },
    {
      "cell_type": "markdown",
      "source": [
        "s라는 변수에 string이 들어가고 있다. 0번째부터 시작한다고 볼 수 있다. 0번째보다 하나더 뒤에 있으면 -1번째항이다. -6은 왼쪽으로 쭉 이동하면 된다. 이부분은 시험문제에 많이 나오는 부분이다. "
      ],
      "metadata": {
        "id": "cF_7a2lQ7Csm"
      }
    },
    {
      "cell_type": "code",
      "metadata": {
        "id": "mpkdZBeWmAux",
        "outputId": "0b3aa983-de7d-454a-8edd-6204327a34e6",
        "colab": {
          "base_uri": "https://localhost:8080/"
        }
      },
      "source": [
        "n = [100, 200, 300]\n",
        "print(n[0], n[2], n[-1], n[-3])\n",
        "print(n[1:2], n[1:], n[:2], n[:])"
      ],
      "execution_count": null,
      "outputs": [
        {
          "output_type": "stream",
          "name": "stdout",
          "text": [
            "100 300 300 100\n",
            "[200] [200, 300] [100, 200] [100, 200, 300]\n"
          ]
        }
      ]
    },
    {
      "cell_type": "markdown",
      "source": [
        "string과 list는 유사성을 가지고 있다. 여기서는 list인데, 3가지의 아이템을 가지고 있다. 0번째는 가장 처음에 있는 부분이기 때문에, 100이 나오게 된다. -1은 가장 마지막에 있는 부분이다. 콜론이 있으면 전부다 프린트 하라는 것이다. [1:3]은 3 번째는 포함하지 말라는 것이다. 즉, 2가지의 숫자가 나오게 된다. "
      ],
      "metadata": {
        "id": "-jc8JuPR7hAf"
      }
    },
    {
      "cell_type": "code",
      "metadata": {
        "id": "ulnefmnFmAuy",
        "outputId": "013b6af1-433f-4d95-e343-71631a426f84"
      },
      "source": [
        "len(s)"
      ],
      "execution_count": null,
      "outputs": [
        {
          "data": {
            "text/plain": [
              "6"
            ]
          },
          "execution_count": 4,
          "metadata": {},
          "output_type": "execute_result"
        }
      ]
    },
    {
      "cell_type": "markdown",
      "source": [
        "len은 길이를 말해주게 된다. 길이를 계산하는 함수이다. 괄호를 통해 함수라는 것을 유추할 수 있다. "
      ],
      "metadata": {
        "id": "wbPJzKrY8e9E"
      }
    },
    {
      "cell_type": "code",
      "metadata": {
        "id": "a45rgiNMmAuy",
        "outputId": "9b1a4417-a513-4f77-8ae9-64352e6da015"
      },
      "source": [
        "s[1]+s[3]+s[4:]*10"
      ],
      "execution_count": null,
      "outputs": [
        {
          "data": {
            "text/plain": [
              "'bdefefefefefefefefefef'"
            ]
          },
          "execution_count": 5,
          "metadata": {},
          "output_type": "execute_result"
        }
      ]
    },
    {
      "cell_type": "markdown",
      "source": [
        "ef를 곱하게 10번 하라는 것이다. 따라서 bd가 한번 나오고 ef가 10번 나오게 되는 것을 볼 수 있다. "
      ],
      "metadata": {
        "id": "hROgds6K8ums"
      }
    },
    {
      "cell_type": "code",
      "metadata": {
        "id": "IevwoMpmmAuz",
        "outputId": "f1bac8be-067b-430e-e6af-f1726296f12c",
        "colab": {
          "base_uri": "https://localhost:8080/",
          "height": 35
        }
      },
      "source": [
        "s.upper()"
      ],
      "execution_count": null,
      "outputs": [
        {
          "output_type": "execute_result",
          "data": {
            "text/plain": [
              "'ABCDEF'"
            ],
            "application/vnd.google.colaboratory.intrinsic+json": {
              "type": "string"
            }
          },
          "metadata": {},
          "execution_count": 3
        }
      ]
    },
    {
      "cell_type": "markdown",
      "source": [
        "function은 기본적으로 입출력을 가지고 있다. print(s[0]) 에서 print는 함수중에 하나이다. 누군가가 이미 만들어 놓은 함수라고 볼 수 있다. python에서 함수는 괄호를 반드시 사용하게 된다. 입력이 있으면 괄호 안에 입력을 넣으면 된다. 이 입력을 바탕으로 출력을 하게되는 것이다. 입력이 없으면 적지 않아도 된다. 즉, 괄호가 보이게 되면 함수라는 것을 유추할 수 있다. built-in function은 내장되어 있는 함수인데, print가 그에 해당하게 된다. 따로 가져올 필요가 없는 함수인 것이다. import할필요도 없는 것이다. \n",
        "upper도 함수의 형태로 되어 있다. s가 string인데, s를 대문자로 만들어주고 있다. "
      ],
      "metadata": {
        "id": "LQK1a5fo87tC"
      }
    },
    {
      "cell_type": "code",
      "metadata": {
        "id": "LRU0Yt1amAuz",
        "outputId": "ea9f71ad-1212-44bd-8540-e83ff9277588",
        "colab": {
          "base_uri": "https://localhost:8080/",
          "height": 35
        }
      },
      "source": [
        "s = ' this is a house built this year.\\n' \t\n",
        "s"
      ],
      "execution_count": null,
      "outputs": [
        {
          "output_type": "execute_result",
          "data": {
            "text/plain": [
              "' this is a house built this year.\\n'"
            ],
            "application/vnd.google.colaboratory.intrinsic+json": {
              "type": "string"
            }
          },
          "metadata": {},
          "execution_count": 4
        }
      ]
    },
    {
      "cell_type": "markdown",
      "source": [
        "s를 써준 이유는 string을 나타내기 위함이다. s를 따로 써주지 않으면 s를 따로 볼 수가 없다. 하지만, 맨 마지막에 있을 때만, print라고 써줄 필요가 없는 것이다. "
      ],
      "metadata": {
        "id": "tsJbZB-F94tf"
      }
    },
    {
      "cell_type": "code",
      "metadata": {
        "id": "nMHteyDfmAu0",
        "outputId": "f25c5f74-c9b6-491a-e93b-6c8cf8a60db4",
        "colab": {
          "base_uri": "https://localhost:8080/"
        }
      },
      "source": [
        "result = s.find('house') \t    \n",
        "result"
      ],
      "execution_count": null,
      "outputs": [
        {
          "output_type": "execute_result",
          "data": {
            "text/plain": [
              "11"
            ]
          },
          "metadata": {},
          "execution_count": 5
        }
      ]
    },
    {
      "cell_type": "markdown",
      "source": [
        "house를 s에서 찾으라는 것이다. 그 값을 result에 넣으라는 것이다. 11이 나왔는데, house가 나오는 순간이 11번째라는 것이다. "
      ],
      "metadata": {
        "id": "YVMPigb1-QGW"
      }
    },
    {
      "cell_type": "code",
      "metadata": {
        "id": "gv82JUX7mAu0",
        "outputId": "b14e2a69-22fe-4621-eb4f-9a54f5c4caf2",
        "colab": {
          "base_uri": "https://localhost:8080/"
        }
      },
      "source": [
        "result = s.find('this')\t      \n",
        "result"
      ],
      "execution_count": null,
      "outputs": [
        {
          "output_type": "execute_result",
          "data": {
            "text/plain": [
              "1"
            ]
          },
          "metadata": {},
          "execution_count": 7
        }
      ]
    },
    {
      "cell_type": "markdown",
      "source": [
        "this는 1 번째에 있는 것을 알 수 있다. "
      ],
      "metadata": {
        "id": "qKcfuP2D-hYf"
      }
    },
    {
      "cell_type": "code",
      "metadata": {
        "id": "ua3TjwLcmAu2",
        "outputId": "424505cc-e82f-4e73-cd69-41eff4651793",
        "colab": {
          "base_uri": "https://localhost:8080/",
          "height": 35
        }
      },
      "source": [
        "s = s.strip()      \t          # a copy of s without leading or trailing whitespace\n",
        "s"
      ],
      "execution_count": null,
      "outputs": [
        {
          "output_type": "execute_result",
          "data": {
            "text/plain": [
              "'this is a house built this year.'"
            ],
            "application/vnd.google.colaboratory.intrinsic+json": {
              "type": "string"
            }
          },
          "metadata": {},
          "execution_count": 8
        }
      ]
    },
    {
      "cell_type": "markdown",
      "source": [
        "white space가 있다면 지우라는 것이다. 문장부호인데, 그러한 것들을 없애주는 것이다. 한칸 띄운 것도 없애주는 것을 볼 수 있다. "
      ],
      "metadata": {
        "id": "9OqxZ0vr-uHl"
      }
    },
    {
      "cell_type": "code",
      "metadata": {
        "id": "l37g5DqQmAu2",
        "outputId": "ff236b39-62c5-42a6-8fed-957b1382282e",
        "colab": {
          "base_uri": "https://localhost:8080/"
        }
      },
      "source": [
        "tokens = s.split(' ')\t        # split s into a list wherever a t is found (whitespace by default)\n",
        "tokens"
      ],
      "execution_count": null,
      "outputs": [
        {
          "output_type": "execute_result",
          "data": {
            "text/plain": [
              "['this', 'is', 'a', 'house', 'built', 'this', 'year.']"
            ]
          },
          "metadata": {},
          "execution_count": 9
        }
      ]
    },
    {
      "cell_type": "markdown",
      "source": [
        "split이라는 함수는 빈칸이 있으면, 빈칸을 중심으로 쪼개서 list로 만들라는 것이다. "
      ],
      "metadata": {
        "id": "6Ic9o-1q-9sd"
      }
    },
    {
      "cell_type": "code",
      "metadata": {
        "id": "64sewKE8mAu2",
        "outputId": "84434f65-50d4-4c05-9bcd-e760d98d09d5",
        "colab": {
          "base_uri": "https://localhost:8080/",
          "height": 35
        }
      },
      "source": [
        "s = ' '.join(tokens)\t        # combine the words of the text into a string using s as the glue\n",
        "s"
      ],
      "execution_count": null,
      "outputs": [
        {
          "output_type": "execute_result",
          "data": {
            "text/plain": [
              "'this is a house built this year.'"
            ],
            "application/vnd.google.colaboratory.intrinsic+json": {
              "type": "string"
            }
          },
          "metadata": {},
          "execution_count": 10
        }
      ]
    },
    {
      "cell_type": "markdown",
      "source": [
        "빈칸을 이용해서 다시 join하라는 것이다. 원 문장이 된 것을 볼 수 있다. "
      ],
      "metadata": {
        "id": "kXrUT8T4_Y44"
      }
    },
    {
      "cell_type": "code",
      "metadata": {
        "id": "jfiqbBiImAu3",
        "outputId": "34a32a7e-5949-40c3-ffb0-ae2954874538",
        "colab": {
          "base_uri": "https://localhost:8080/",
          "height": 35
        }
      },
      "source": [
        "s = s.replace('this', 'that') # replace instances of t with u inside s\n",
        "s"
      ],
      "execution_count": null,
      "outputs": [
        {
          "output_type": "execute_result",
          "data": {
            "text/plain": [
              "'that is a house built that year.'"
            ],
            "application/vnd.google.colaboratory.intrinsic+json": {
              "type": "string"
            }
          },
          "metadata": {},
          "execution_count": 11
        }
      ]
    },
    {
      "cell_type": "markdown",
      "source": [
        "this를 that으로 바꾸어주는 함수이다. "
      ],
      "metadata": {
        "id": "lb7JGdrG_gvv"
      }
    },
    {
      "cell_type": "code",
      "metadata": {
        "id": "hpc_mhgAye2S"
      },
      "source": [
        "def add(a,b):\n",
        "  return a+b\n",
        "\n",
        "def subtract(a,b):\n",
        "  return a-b\n",
        "\n",
        "def multiply(a,b):\n",
        "  return a*b\n",
        "\n",
        "def divide(a,b):\n",
        "  return a/b"
      ],
      "execution_count": null,
      "outputs": []
    },
    {
      "cell_type": "markdown",
      "source": [
        "function을 만드는 방법에 대하여 알아보자. 누군가가 만들어준 함수를 쓸 수도 있는데, 우리가 직접 만들어 쓸 수도 있다. def라고 적고, 함수 이름을 적으면 된다. 그리고 괄호를 열고, 닫고, 입력을 넣으면 된다. 우리 마음대로 입력 변수를 적으면 된다. 출력을 하고 싶으면, return을 적고, 출력변수명을 적어주면 된다. 입력변수, 출력 변수 모두 여러개를 적을 수 있다. def add(a,b)을 살펴보면, 입력 변수가 2가지가 들어가 있다. 출력 변수는 a+b이다. return을 사용하고 있는데, c=a+b, return c 이런 식으로 중간과정을 추가해도 같은 결과값이 나오게 된다. 더하기 함수를 이런 식으로 만들 수 있는 것이다. 빼기, 곱하기, 나누기 함수 모두 같다. "
      ],
      "metadata": {
        "id": "HiHoYru4AGCL"
      }
    },
    {
      "cell_type": "code",
      "source": [
        "add(1,2)"
      ],
      "metadata": {
        "colab": {
          "base_uri": "https://localhost:8080/"
        },
        "id": "kYjGc9czBNDC",
        "outputId": "6c24c11e-5749-4dc5-88c9-0b9fd527b52f"
      },
      "execution_count": null,
      "outputs": [
        {
          "output_type": "execute_result",
          "data": {
            "text/plain": [
              "3"
            ]
          },
          "metadata": {},
          "execution_count": 15
        }
      ]
    },
    {
      "cell_type": "code",
      "metadata": {
        "colab": {
          "base_uri": "https://localhost:8080/"
        },
        "id": "8Y4oa05Eykn4",
        "outputId": "f1b575ee-e143-46ed-c308-a2b21903334b"
      },
      "source": [
        "c = add(1,2); print(c)\n",
        "c = subtract(1,2); print(c)\n",
        "c = multiply(1,2); print(c)\n",
        "c = divide(1,2); print(c)"
      ],
      "execution_count": null,
      "outputs": [
        {
          "output_type": "stream",
          "name": "stdout",
          "text": [
            "3\n",
            "-1\n",
            "2\n",
            "0.5\n"
          ]
        }
      ]
    },
    {
      "cell_type": "markdown",
      "source": [
        " 먼저 add 함수를 정의해주어야 한다. 정의를 해주게 되면 다음과 같은 결과 값이 print되어 나오게 된다. 입력이 없으면 빈칸만 해놓으면 된다. 출력이 물론 없을 수도 있다. 입출력이 있다면 괄호 안에, 내용을 적어주면 된다. 즉, 선택적이다. 반드시 함수를 만들 때는 괄호를 써주어야 하는 점 기억해야 한다. "
      ],
      "metadata": {
        "id": "4tcxMOjiB8z6"
      }
    },
    {
      "cell_type": "markdown",
      "source": [
        "syntax에는 반복문과 조건문이 있는데, 반복문은 for, 조건문은 if를 사용하게 된다. 이것이 syntax의 전부이다. words는 변수인 것이다. "
      ],
      "metadata": {
        "id": "aOWqz2YrCpK_"
      }
    },
    {
      "cell_type": "code",
      "metadata": {
        "id": "Fu2mzgrqSLAU",
        "outputId": "8bc04a05-72c1-49ef-e659-86965f6783fb",
        "colab": {
          "base_uri": "https://localhost:8080/"
        }
      },
      "source": [
        "a = [1, 2, 3, 4]\n",
        "for i in a:\n",
        "    print(i)"
      ],
      "execution_count": null,
      "outputs": [
        {
          "output_type": "stream",
          "name": "stdout",
          "text": [
            "1\n",
            "2\n",
            "3\n",
            "4\n"
          ]
        }
      ]
    },
    {
      "cell_type": "markdown",
      "source": [
        " print를 써줄 때는 띄어서 써주어야 한다. INDENT 해주어야 한다. 이렇게 해줘야 for 안에 있는 것으로 본다. a를 먼저 해석해준다. a에 있는 것들을 처음부터 i로 하나하나씩 받아서 돌린다는 것이다. 하나하나씩 i에 넣고 돌린다는 것이다. 즉, 4번 돌아가게 된다. 이러한 것을 for loop이라고 한다. 첫 번째 돌아갈 때, i에 1이 들어가서 1이 나오게 된다. 그다음, 2,3,4 이런식으로 들어가게 되는 것이다. "
      ],
      "metadata": {
        "id": "9np0al6fDnQK"
      }
    },
    {
      "cell_type": "code",
      "metadata": {
        "id": "XSJxLJVCSLAW",
        "outputId": "1363c38b-3ceb-44c5-cd79-9704f3bc6041",
        "colab": {
          "base_uri": "https://localhost:8080/"
        }
      },
      "source": [
        "a = [1, 2, 3, 4]\n",
        "for i in range(len(a)):\n",
        "    print(a[i])"
      ],
      "execution_count": null,
      "outputs": [
        {
          "output_type": "stream",
          "name": "stdout",
          "text": [
            "1\n",
            "2\n",
            "3\n",
            "4\n"
          ]
        }
      ]
    },
    {
      "cell_type": "markdown",
      "source": [
        "range라는 것이 사용되었다. range(4)이다. [0,1,2,3]의 list가 만들어지는 것이다. 0부터 들어가는 것이다. 처음 만들어지는 것이 print(a[0])인 것이다. 따라서 1이 처음으로 나오게 된다. range를 활용해서 list를 만든 것이다. "
      ],
      "metadata": {
        "id": "INnaCXQeEiDk"
      }
    },
    {
      "cell_type": "code",
      "metadata": {
        "id": "VTfxVRdgSLAW",
        "outputId": "0d661207-5dbf-48ae-8bbd-21c1e93c3eaf",
        "colab": {
          "base_uri": "https://localhost:8080/"
        }
      },
      "source": [
        "a = ['red', 'green', 'blue', 'purple']\n",
        "for i in a:\n",
        "    print(i)"
      ],
      "execution_count": null,
      "outputs": [
        {
          "output_type": "stream",
          "name": "stdout",
          "text": [
            "red\n",
            "green\n",
            "blue\n",
            "purple\n"
          ]
        }
      ]
    },
    {
      "cell_type": "markdown",
      "source": [
        "list에 string이 들어가 있다. 하나하나씩 들어가면서 결국 출력되게 되는 것이다. "
      ],
      "metadata": {
        "id": "4o78icZhFkPz"
      }
    },
    {
      "cell_type": "code",
      "metadata": {
        "id": "Vc-7pW85SLAW",
        "outputId": "c658630e-aa27-4dcc-dd26-746025819952",
        "colab": {
          "base_uri": "https://localhost:8080/"
        }
      },
      "source": [
        "a = ['red', 'green', 'blue', 'purple']\n",
        "for i in range(len(a)):\n",
        "    print(a[i])"
      ],
      "execution_count": null,
      "outputs": [
        {
          "output_type": "stream",
          "name": "stdout",
          "text": [
            "red\n",
            "green\n",
            "blue\n",
            "purple\n"
          ]
        }
      ]
    },
    {
      "cell_type": "markdown",
      "source": [
        "range(4)와 같은 말이다. 0번째에 있는, red가 가장 먼저 나오게 된다. "
      ],
      "metadata": {
        "id": "B751AIaDF1ex"
      }
    },
    {
      "cell_type": "code",
      "metadata": {
        "id": "dD-ephD3SLAX",
        "outputId": "dc1ea17f-7ae2-4667-d3cf-6cb7af2a3ffb",
        "colab": {
          "base_uri": "https://localhost:8080/"
        }
      },
      "source": [
        "a = 0\n",
        "if a == 0:\n",
        "    print(a)\n",
        "else:\n",
        "    print(a+1)"
      ],
      "execution_count": null,
      "outputs": [
        {
          "output_type": "stream",
          "name": "stdout",
          "text": [
            "0\n"
          ]
        }
      ]
    },
    {
      "cell_type": "markdown",
      "source": [
        "a에 0이 들어가 있는데, if를 만나게 된다. 실제 같다는 의미를 나타나기 위해서는 등호를 2개 작성해준다. indent 해주어야 한다. 아니라면은 !=이다. else는 그렇지 않다면 다음을 실행하라는 이야기이다. "
      ],
      "metadata": {
        "id": "FOb3OPghGHXZ"
      }
    },
    {
      "cell_type": "code",
      "metadata": {
        "id": "M0AZaDMvSLAY",
        "outputId": "db065095-1739-432b-abcd-6482f1d32765",
        "colab": {
          "base_uri": "https://localhost:8080/"
        }
      },
      "source": [
        "for i in range(1, 3):\n",
        "    for j in range(3, 5):\n",
        "        print(i*j)"
      ],
      "execution_count": null,
      "outputs": [
        {
          "output_type": "stream",
          "name": "stdout",
          "text": [
            "3\n",
            "4\n",
            "6\n",
            "8\n"
          ]
        }
      ]
    },
    {
      "cell_type": "markdown",
      "source": [
        "range(4)는 [0,1,2,3] 이다. range(1,3)은 [1,2]이다. 3 번째는 제외하기 때문이다. range(3,5)는 [3,4]이다. list에 있는 것들이 하나하나씩 들어간다고 생각한다면 총 4가지의 숫자가 나올 수 있음을 알 수 있다. "
      ],
      "metadata": {
        "id": "z-4DpWCkHF5d"
      }
    },
    {
      "cell_type": "code",
      "metadata": {
        "id": "ZPpZmVIHSLAY",
        "outputId": "9d2a0a5b-e3a6-42f4-8832-72bf21aa812e",
        "colab": {
          "base_uri": "https://localhost:8080/"
        }
      },
      "source": [
        "for i in range(1, 3):\n",
        "    for j in range(3, 5):\n",
        "        if j >=4:\n",
        "            print(i*j)"
      ],
      "execution_count": null,
      "outputs": [
        {
          "output_type": "stream",
          "name": "stdout",
          "text": [
            "4\n",
            "8\n"
          ]
        }
      ]
    },
    {
      "cell_type": "markdown",
      "source": [
        "j가 4랑 같거나 클 때만, 출력되므로 j가 4일 때만 해당된다. 1x4, 2x4의 숫자만 결국 출력되게 된다. "
      ],
      "metadata": {
        "id": "VLLWoOxcIF0B"
      }
    },
    {
      "cell_type": "code",
      "metadata": {
        "id": "JQXk5vi0SLAY",
        "outputId": "bdff91f9-6cdf-4189-9fb3-3b60fb68e4f7",
        "colab": {
          "base_uri": "https://localhost:8080/"
        }
      },
      "source": [
        "a = [1, 2, 3, 4]\n",
        "b = [i for i in a if i >=2]\n",
        "b"
      ],
      "execution_count": null,
      "outputs": [
        {
          "output_type": "execute_result",
          "data": {
            "text/plain": [
              "[2, 3, 4]"
            ]
          },
          "metadata": {},
          "execution_count": 23
        }
      ]
    },
    {
      "cell_type": "markdown",
      "source": [
        "list comprehension이 나오게 된다. for과 if가 list 안에 들어가 있는 것을 볼 수 있다. a에 있는 것을 하나하나씩 i로 받는다. 만일 i가 2보다 같거나 크다면, b가 출력되게 된다. 결과적으로, 1만 탈락하게 된다. "
      ],
      "metadata": {
        "id": "eorCNUYDIY5k"
      }
    },
    {
      "cell_type": "code",
      "metadata": {
        "id": "MDmBGZ3LSLAZ",
        "outputId": "1aef7861-01d6-4536-f89f-a1c99ea4ead4",
        "colab": {
          "base_uri": "https://localhost:8080/"
        }
      },
      "source": [
        "a = ['red', 'green', 'blue', 'purple']\n",
        "b = [i for i in a if len(i) >=4]\n",
        "b"
      ],
      "execution_count": null,
      "outputs": [
        {
          "output_type": "execute_result",
          "data": {
            "text/plain": [
              "['green', 'blue', 'purple']"
            ]
          },
          "metadata": {},
          "execution_count": 24
        }
      ]
    },
    {
      "cell_type": "markdown",
      "source": [
        "string의 길이가 4보다 같거나 클 경우에만 b가 출력되므로 red는 탈락되는 것을 알 수 있다. "
      ],
      "metadata": {
        "id": "XZflUCQRJAZ0"
      }
    },
    {
      "cell_type": "code",
      "source": [
        "a = ['red', 'green', 'blue', 'purple']\n",
        "b = [1, 2, 3, 4]\n",
        "c = {a[i]:b[i] for i in range(4)}\n",
        "c"
      ],
      "metadata": {
        "id": "Z6JMoDOHu48B",
        "outputId": "e1bd29b4-4952-413a-90cf-c31c5bd63d14",
        "colab": {
          "base_uri": "https://localhost:8080/"
        }
      },
      "execution_count": null,
      "outputs": [
        {
          "output_type": "execute_result",
          "data": {
            "text/plain": [
              "{'blue': 3, 'green': 2, 'purple': 4, 'red': 1}"
            ]
          },
          "metadata": {},
          "execution_count": 25
        }
      ]
    },
    {
      "cell_type": "markdown",
      "source": [
        "dict comprehension이다. dict 안에 for이 들어가 있는 것을 볼 수 있다. range(4)는 [0,1,2,3] 다. 0부터 들어간다.{ a[0]:b[0], ~} 이런식이 된다.  "
      ],
      "metadata": {
        "id": "8vYlXNv3IdN8"
      }
    }
  ]
}