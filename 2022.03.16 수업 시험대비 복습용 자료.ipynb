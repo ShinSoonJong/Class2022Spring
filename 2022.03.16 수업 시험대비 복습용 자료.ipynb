{
  "nbformat": 4,
  "nbformat_minor": 0,
  "metadata": {
    "colab": {
      "name": "2022-03-16 수업.ipynb",
      "provenance": [],
      "collapsed_sections": [],
      "authorship_tag": "ABX9TyOQ1pRSn0+kfaX0wNFwyj6y",
      "include_colab_link": true
    },
    "kernelspec": {
      "name": "python3",
      "display_name": "Python 3"
    },
    "language_info": {
      "name": "python"
    }
  },
  "cells": [
    {
      "cell_type": "markdown",
      "metadata": {
        "id": "view-in-github",
        "colab_type": "text"
      },
      "source": [
        "<a href=\"https://colab.research.google.com/github/ShinSoonJong/Class2022Spring/blob/main/2022.03.16%20%EC%88%98%EC%97%85%20%EC%8B%9C%ED%97%98%EB%8C%80%EB%B9%84%20%EB%B3%B5%EC%8A%B5%EC%9A%A9%20%EC%9E%90%EB%A3%8C.ipynb\" target=\"_parent\"><img src=\"https://colab.research.google.com/assets/colab-badge.svg\" alt=\"Open In Colab\"/></a>"
      ]
    },
    {
      "cell_type": "markdown",
      "source": [
        "패키지는 누군가가 만들어놓음 함수이다. 남들이 만들어 놓은 것을 불러올 때, import를 활용하게 된다. 설치가 안되어 있다면, install해야 한다. print는 built-in 함수이기 때문에, 그냥 사용하면 된다. install 해야 하는 것, import 해야 하는 것, built-in 되어 있는 3가지의 경우가 있다. 설치가 전혀 안되어 있다면, install 먼저 해야 한다. 유명한 것들은 install되어 있기 때문에, import 하면 된다. print, len 같은 것들은 built-in 함수이다. 구글 컴퓨터에 python이 다 깔려있는데, 유명한 패키지들이 다 깔려 있다. 유명하지 않은 것들은 import하면 없다고 나온다. 따라서, install 먼저해야 한다. import는 ram으로 올려놓는다는 것이다. 컴퓨터에 설치되어 있어도, 즉, 창고에 있어도, 바로 요리하기 위해 앞에 두는 것과는 다르다. install은 전혀 창고에도 없는 것이다. built-in은 원래부터 도마위에 있는 것이다. "
      ],
      "metadata": {
        "id": "QHjzbhvwU8EX"
      }
    },
    {
      "cell_type": "code",
      "metadata": {
        "id": "JXicrkYOzPRo",
        "colab": {
          "base_uri": "https://localhost:8080/"
        },
        "outputId": "1620ee11-c366-43a8-b4e6-7363d972dafd"
      },
      "source": [
        "import numpy as np\n",
        "n = np.random.randn(100)\n",
        "n"
      ],
      "execution_count": null,
      "outputs": [
        {
          "output_type": "execute_result",
          "data": {
            "text/plain": [
              "array([-0.45906037, -0.88014557, -1.19998812,  0.43179372, -0.11560374,\n",
              "        0.96379695, -0.51993535, -1.8795827 ,  1.06071661, -0.69613627,\n",
              "        2.31156235,  0.60919504, -0.76875067, -0.6591778 ,  0.13299653,\n",
              "       -0.6131974 , -0.34552307,  0.91092356,  0.04383271,  0.12865632,\n",
              "       -0.04873005,  0.04823249, -0.77394583, -0.33305841, -1.76221053,\n",
              "        0.58111452,  0.00512051, -1.58308214, -0.15978715,  1.15493352,\n",
              "       -0.67217136, -0.79899662,  0.20719716, -0.41806115,  0.79997013,\n",
              "       -0.19482157,  1.21607519,  1.00655843, -0.24810251,  1.51682041,\n",
              "       -1.36799318, -0.83669357,  0.9171369 ,  0.34466299,  0.68155751,\n",
              "       -1.09113646, -0.09776748,  1.77977239,  1.06611746,  0.26797535,\n",
              "       -0.54087151, -0.01511291,  1.6492501 , -0.33134798, -2.3549374 ,\n",
              "       -0.23438692, -0.64814731, -1.60071554, -0.16701882, -1.92468759,\n",
              "        0.78396709, -0.42643631,  0.76095989, -0.31783147,  0.60526381,\n",
              "        0.11026262,  0.14106836, -2.13659778, -0.75079781, -0.44055927,\n",
              "       -1.08832846, -1.04659251, -0.77887336,  0.1517755 , -1.78596109,\n",
              "        0.37335374, -0.76180543,  1.45019985,  0.32652041,  0.00707523,\n",
              "        1.20655967, -0.60013616,  0.06759507,  0.75156518,  0.09835785,\n",
              "        1.24719888,  0.73011945,  0.80404592,  0.76863611,  0.55414803,\n",
              "        0.27039097, -0.51969751, -1.64463756, -1.00855876,  1.30524493,\n",
              "        0.14537875, -0.16029376, -0.68642072, -0.01843484,  0.72789917])"
            ]
          },
          "metadata": {},
          "execution_count": 4
        }
      ]
    },
    {
      "cell_type": "markdown",
      "source": [
        "numpy를 import 하였다. numpy 패키지 안에 여러가지 요소들이 들어있을 수도 있다. 그것을 사용하기 위해서는 지정해주어야 한다. 행렬같은 숫자를 만들거나, 숫자를 가지고 통계처리를 할 때, numpy를 사용하게 된다. 수치와 관련된 일을 할 때, numpy는 필수이다. \n",
        "numpy.random.randn(5) \n",
        "numpy안에 random이라는 디렉토리가 있고, 그 안에 randn이라는 함수가 있다는 것이다. 5가지의 랜덤 숫자를 만드라는 것이다. 정규분포를 따르는 숫자들이다. 평균이 0이고, standard deviation이 1인 것들이다. numpy를 불러오지 않고 이렇게 쓰게 되면 당연히 실행이 되지 않는다. numpy가 너무 길기 때문에, np로 줄여서 나타낼 수도 있다. "
      ],
      "metadata": {
        "id": "D75XocRvYRmL"
      }
    },
    {
      "cell_type": "code",
      "metadata": {
        "id": "oKT4vn4MwyLA",
        "colab": {
          "base_uri": "https://localhost:8080/",
          "height": 356
        },
        "outputId": "321dc249-d3d2-4c9e-df00-61046bfd3dbf"
      },
      "source": [
        "import matplotlib\n",
        "matplotlib.pyplot.hist(n)"
      ],
      "execution_count": null,
      "outputs": [
        {
          "output_type": "execute_result",
          "data": {
            "text/plain": [
              "(array([ 3.,  6.,  6., 18., 17., 21., 14., 10.,  4.,  1.]),\n",
              " array([-2.3549374 , -1.88828742, -1.42163745, -0.95498747, -0.4883375 ,\n",
              "        -0.02168752,  0.44496245,  0.91161243,  1.3782624 ,  1.84491238,\n",
              "         2.31156235]),\n",
              " <a list of 10 Patch objects>)"
            ]
          },
          "metadata": {},
          "execution_count": 5
        },
        {
          "output_type": "display_data",
          "data": {
            "text/plain": [
              "<Figure size 432x288 with 1 Axes>"
            ],
            "image/png": "[encoded data removed]"
          },
          "metadata": {
            "needs_background": "light"
          }
        }
      ]
    },
    {
      "cell_type": "markdown",
      "source": [
        "matplotlib도 유명한 패키지이고, 시각화해주는 함수이다. pyplot이라는 디렉토리 안에 hist라는 함수가 있다. 히스토그램을 그려주는 것이다. 랜덤 숫자이기 때문에, 그래프는 계속 바뀔 수 있다. 이 그래프에서 y축은 개수이다. "
      ],
      "metadata": {
        "id": "h7f2BqxNaJOW"
      }
    },
    {
      "cell_type": "code",
      "metadata": {
        "colab": {
          "base_uri": "https://localhost:8080/",
          "height": 356
        },
        "id": "zQJ4LnbA-Hvz",
        "outputId": "8790f481-c984-4041-9927-74a8600903c1"
      },
      "source": [
        "import matplotlib.pyplot\n",
        "matplotlib.pyplot.hist(n)"
      ],
      "execution_count": null,
      "outputs": [
        {
          "output_type": "execute_result",
          "data": {
            "text/plain": [
              "(array([ 3.,  6.,  6., 18., 17., 21., 14., 10.,  4.,  1.]),\n",
              " array([-2.3549374 , -1.88828742, -1.42163745, -0.95498747, -0.4883375 ,\n",
              "        -0.02168752,  0.44496245,  0.91161243,  1.3782624 ,  1.84491238,\n",
              "         2.31156235]),\n",
              " <a list of 10 Patch objects>)"
            ]
          },
          "metadata": {},
          "execution_count": 6
        },
        {
          "output_type": "display_data",
          "data": {
            "text/plain": [
              "<Figure size 432x288 with 1 Axes>"
            ],
            "image/png": "[encoded data removed]"
          },
          "metadata": {
            "needs_background": "light"
          }
        }
      ]
    },
    {
      "cell_type": "markdown",
      "source": [
        "디렉토리까지 import를 먼저해도 좋다. 하지만, matplotlib를 다시 적는 것은 번거롭다. "
      ],
      "metadata": {
        "id": "04XsPJVna7YE"
      }
    },
    {
      "cell_type": "code",
      "metadata": {
        "id": "AWU6awi53c07",
        "outputId": "15e96e83-a5fa-4374-cd89-1787eee16d97",
        "colab": {
          "base_uri": "https://localhost:8080/",
          "height": 356
        }
      },
      "source": [
        "import matplotlib.pyplot as plt\n",
        "plt.hist(n)"
      ],
      "execution_count": null,
      "outputs": [
        {
          "output_type": "execute_result",
          "data": {
            "text/plain": [
              "(array([ 3.,  6.,  6., 18., 17., 21., 14., 10.,  4.,  1.]),\n",
              " array([-2.3549374 , -1.88828742, -1.42163745, -0.95498747, -0.4883375 ,\n",
              "        -0.02168752,  0.44496245,  0.91161243,  1.3782624 ,  1.84491238,\n",
              "         2.31156235]),\n",
              " <a list of 10 Patch objects>)"
            ]
          },
          "metadata": {},
          "execution_count": 7
        },
        {
          "output_type": "display_data",
          "data": {
            "text/plain": [
              "<Figure size 432x288 with 1 Axes>"
            ],
            "image/png": "[encoded data removed]"
          },
          "metadata": {
            "needs_background": "light"
          }
        }
      ]
    },
    {
      "cell_type": "markdown",
      "source": [
        "번거로움을 줄이기 위해서 , pyplot을 plt로 받은 것을 볼 수 있다. 번거로움을 줄이는 과정으로써, 결과값은 모두 같다. "
      ],
      "metadata": {
        "id": "wqKyu_b6bGhB"
      }
    },
    {
      "cell_type": "markdown",
      "source": [
        "## from import를 쓰면 import as처럼 축약해서 부를 수 있는 효과"
      ],
      "metadata": {
        "id": "v1zA2xRWzpdu"
      }
    },
    {
      "cell_type": "code",
      "metadata": {
        "colab": {
          "base_uri": "https://localhost:8080/",
          "height": 356
        },
        "id": "moIjn3Kv-Hqy",
        "outputId": "4f942dc6-1bdd-40ef-f6f7-d55447212a75"
      },
      "source": [
        "from matplotlib import pyplot\n",
        "pyplot.hist(n)"
      ],
      "execution_count": null,
      "outputs": [
        {
          "output_type": "execute_result",
          "data": {
            "text/plain": [
              "(array([ 3.,  6.,  6., 18., 17., 21., 14., 10.,  4.,  1.]),\n",
              " array([-2.3549374 , -1.88828742, -1.42163745, -0.95498747, -0.4883375 ,\n",
              "        -0.02168752,  0.44496245,  0.91161243,  1.3782624 ,  1.84491238,\n",
              "         2.31156235]),\n",
              " <a list of 10 Patch objects>)"
            ]
          },
          "metadata": {},
          "execution_count": 8
        },
        {
          "output_type": "display_data",
          "data": {
            "text/plain": [
              "<Figure size 432x288 with 1 Axes>"
            ],
            "image/png": "[encoded data removed]"
          },
          "metadata": {
            "needs_background": "light"
          }
        }
      ]
    },
    {
      "cell_type": "markdown",
      "source": [
        "matplotlib를 from으로 써도 좋다. 그 안에 있는 디렉토리만 import할 수 있다. "
      ],
      "metadata": {
        "id": "iqdjiZDKbYtB"
      }
    },
    {
      "cell_type": "code",
      "metadata": {
        "colab": {
          "base_uri": "https://localhost:8080/",
          "height": 356
        },
        "id": "ORo259i7_Uqi",
        "outputId": "ac7ca7a6-51f5-4432-d82e-cf358ae0cfb9"
      },
      "source": [
        "from matplotlib.pyplot import hist\n",
        "hist(n)"
      ],
      "execution_count": null,
      "outputs": [
        {
          "output_type": "execute_result",
          "data": {
            "text/plain": [
              "(array([ 3.,  6.,  6., 18., 17., 21., 14., 10.,  4.,  1.]),\n",
              " array([-2.3549374 , -1.88828742, -1.42163745, -0.95498747, -0.4883375 ,\n",
              "        -0.02168752,  0.44496245,  0.91161243,  1.3782624 ,  1.84491238,\n",
              "         2.31156235]),\n",
              " <a list of 10 Patch objects>)"
            ]
          },
          "metadata": {},
          "execution_count": 9
        },
        {
          "output_type": "display_data",
          "data": {
            "text/plain": [
              "<Figure size 432x288 with 1 Axes>"
            ],
            "image/png": "[encoded data removed]"
          },
          "metadata": {
            "needs_background": "light"
          }
        }
      ]
    },
    {
      "cell_type": "markdown",
      "source": [
        "hist부터 import하는 방법도 존재한다. "
      ],
      "metadata": {
        "id": "Gf8ombRSbkyo"
      }
    },
    {
      "cell_type": "markdown",
      "metadata": {
        "id": "JcCdLoe_4bY7"
      },
      "source": [
        "### create nd arrays (≈matrices)"
      ]
    },
    {
      "cell_type": "markdown",
      "source": [
        "numpy와 matlotlib를 모두 배울 것이다. "
      ],
      "metadata": {
        "id": "ZIzT3Q_OcuSF"
      }
    },
    {
      "cell_type": "code",
      "metadata": {
        "id": "5ap7xyofShBB"
      },
      "source": [
        "import numpy as np"
      ],
      "execution_count": 2,
      "outputs": []
    },
    {
      "cell_type": "markdown",
      "source": [
        "np는 숫자를 많이 만들어낼 때 사용한다. matrix는 직사각형의 숫자 배열이다. 행렬인 것이다. 입체적으로 그릴 수도 있다. nd는 n-dimensional array이다. 보통 행렬을 2d array라고 한다. 한줄짜리는 1d array이다. 행과 열이 있어야 2d이다. 입체적인 것은 3d이다. 4d 이상도 가능하다. nd array를 만드는 것을 numpy에서 하는 것이다. \n",
        "numpy를 import 했고, np로 받았다. "
      ],
      "metadata": {
        "id": "vp19iMTYdAzB"
      }
    },
    {
      "cell_type": "code",
      "metadata": {
        "id": "2rqpSPZCShBC",
        "colab": {
          "base_uri": "https://localhost:8080/"
        },
        "outputId": "434ba58e-d5a5-4b07-ca1f-59bb08da7597"
      },
      "source": [
        "x = np.array([1,2,3])\n",
        "print(x)\n",
        "print(type(x))\n",
        "print(x.shape)"
      ],
      "execution_count": 3,
      "outputs": [
        {
          "output_type": "stream",
          "name": "stdout",
          "text": [
            "[1 2 3]\n",
            "<class 'numpy.ndarray'>\n",
            "(3,)\n"
          ]
        }
      ]
    },
    {
      "cell_type": "markdown",
      "source": [
        "array함수가 있다. 입력 변수에 list가 들어가 있다. list는 계산이 될 수 없다. list를 array로 바꾸어 주어야 한다. 계산을 하기 위해서는 array로 바꾸어야 한다. 생긴 것은 같지만, 프린트 된다. numpy에서 제공하는 특수한 변수인데, ndarray라는 type이 나오게 된다. shape은 1d array라는 것을 알 수 있다. "
      ],
      "metadata": {
        "id": "rikjLhmGejR-"
      }
    },
    {
      "cell_type": "code",
      "metadata": {
        "id": "EjC88C75ShBC",
        "colab": {
          "base_uri": "https://localhost:8080/"
        },
        "outputId": "c2169796-8512-4314-abaa-7ef75085ab00"
      },
      "source": [
        "x = np.arange(0,10,2)\n",
        "print(x)\n",
        "print(type(x))\n",
        "print(x.shape)"
      ],
      "execution_count": 5,
      "outputs": [
        {
          "output_type": "stream",
          "name": "stdout",
          "text": [
            "[0 2 4 6 8]\n",
            "<class 'numpy.ndarray'>\n",
            "(5,)\n"
          ]
        }
      ]
    },
    {
      "cell_type": "markdown",
      "source": [
        "arrange라는 함수도 존재한다. 0부터 10까지에 해당되고, 2는 increment이다. 증가되는 것이다. 2씩 증가되는 것이다. 5가지의 숫자가 만들어지고 마지막 숫자인 10은 만들어지지 않는다. shape은 1d array이다. "
      ],
      "metadata": {
        "id": "xK33EHqTfJ0N"
      }
    },
    {
      "cell_type": "code",
      "metadata": {
        "id": "-MwkCEjTShBC",
        "colab": {
          "base_uri": "https://localhost:8080/"
        },
        "outputId": "0db7947c-c6bf-4c4e-adc1-a1e0a6811226"
      },
      "source": [
        "x = np.linspace(0,10,6)\n",
        "print(x)\n",
        "print(type(x))\n",
        "print(x.shape)"
      ],
      "execution_count": 6,
      "outputs": [
        {
          "output_type": "stream",
          "name": "stdout",
          "text": [
            "[ 0.  2.  4.  6.  8. 10.]\n",
            "<class 'numpy.ndarray'>\n",
            "(6,)\n"
          ]
        }
      ]
    },
    {
      "cell_type": "markdown",
      "source": [
        "linspace는 linear space이다. 0부터 10까지인데, 10을 포함하는 것이 특이하다. 0부터 10까지 등분을 해서 6가지 숫자를 만드라는 것이다. 이 역시 shape은 1d array이다. 6,은 6가지의 1d array라는 것이다. "
      ],
      "metadata": {
        "id": "0Y2XaL4BfnoN"
      }
    },
    {
      "cell_type": "code",
      "metadata": {
        "id": "tjk79SQ27fNv",
        "colab": {
          "base_uri": "https://localhost:8080/"
        },
        "outputId": "39066497-2c70-423f-a617-4960cdb9ed41"
      },
      "source": [
        "x = np.array([[1,2,3], [4,5,6]])\n",
        "print(x)\n",
        "print(type(x))\n",
        "print(x.shape)"
      ],
      "execution_count": 7,
      "outputs": [
        {
          "output_type": "stream",
          "name": "stdout",
          "text": [
            "[[1 2 3]\n",
            " [4 5 6]]\n",
            "<class 'numpy.ndarray'>\n",
            "(2, 3)\n"
          ]
        }
      ]
    },
    {
      "cell_type": "markdown",
      "source": [
        "list를 두가지 썼고, 대괄호를 또 해준 것이다. 이중 list이다. 이러한 list를 array로 만들라는 것이다. 2d array이다. row는 2개, 행은 3개이다. "
      ],
      "metadata": {
        "id": "xnswoi8jf4-G"
      }
    },
    {
      "cell_type": "code",
      "metadata": {
        "id": "C1ogg6iZ7yir",
        "colab": {
          "base_uri": "https://localhost:8080/"
        },
        "outputId": "d8524609-5b21-450c-f053-841e1d7d3114"
      },
      "source": [
        "x = np.array([[[1,2,3], [4,5,6]], [[7,8,9], [10,11,12]]])\n",
        "print(x)\n",
        "print(type(x))\n",
        "print(x.shape)"
      ],
      "execution_count": 8,
      "outputs": [
        {
          "output_type": "stream",
          "name": "stdout",
          "text": [
            "[[[ 1  2  3]\n",
            "  [ 4  5  6]]\n",
            "\n",
            " [[ 7  8  9]\n",
            "  [10 11 12]]]\n",
            "<class 'numpy.ndarray'>\n",
            "(2, 2, 3)\n"
          ]
        }
      ]
    },
    {
      "cell_type": "markdown",
      "source": [
        "3d를 만들고 있다. 2d보다 한층이 더 있는 것이다. 제일 끝에 있는 괄호가 3개이므로, 3d array이다. 끝에 있는 3은 [1,2,3] 부분, 가운데 2는 합쳐진 부분, 처음 2는 전체가 합쳐진 것이다. "
      ],
      "metadata": {
        "id": "od_geiO4hE1i"
      }
    },
    {
      "cell_type": "code",
      "metadata": {
        "id": "efgeNHtD8ZlT",
        "colab": {
          "base_uri": "https://localhost:8080/"
        },
        "outputId": "814e16d8-5871-47a3-aa39-54db54aff009"
      },
      "source": [
        "x = np.ones([2, 2, 3])\n",
        "print(x)\n",
        "print(type(x))\n",
        "print(x.shape)"
      ],
      "execution_count": 9,
      "outputs": [
        {
          "output_type": "stream",
          "name": "stdout",
          "text": [
            "[[[1. 1. 1.]\n",
            "  [1. 1. 1.]]\n",
            "\n",
            " [[1. 1. 1.]\n",
            "  [1. 1. 1.]]]\n",
            "<class 'numpy.ndarray'>\n",
            "(2, 2, 3)\n"
          ]
        }
      ]
    },
    {
      "cell_type": "markdown",
      "source": [
        "전부 1로 채울 때, ones라는 함수를 사용하게 된다. (2,2,3)으로 채워진 것을 만들 수 있다. "
      ],
      "metadata": {
        "id": "F7iNPTXliPlI"
      }
    },
    {
      "cell_type": "code",
      "metadata": {
        "id": "b_F-ccY08zzl",
        "colab": {
          "base_uri": "https://localhost:8080/"
        },
        "outputId": "c0206dc9-69b4-43d1-c83c-652948d1546a"
      },
      "source": [
        "x = np.zeros([2, 2, 3])\n",
        "print(x)\n",
        "print(type(x))\n",
        "print(x.shape)\n",
        "x.reshape(3,2,2)"
      ],
      "execution_count": 10,
      "outputs": [
        {
          "output_type": "stream",
          "name": "stdout",
          "text": [
            "[[[0. 0. 0.]\n",
            "  [0. 0. 0.]]\n",
            "\n",
            " [[0. 0. 0.]\n",
            "  [0. 0. 0.]]]\n",
            "<class 'numpy.ndarray'>\n",
            "(2, 2, 3)\n"
          ]
        },
        {
          "output_type": "execute_result",
          "data": {
            "text/plain": [
              "array([[[0., 0.],\n",
              "        [0., 0.]],\n",
              "\n",
              "       [[0., 0.],\n",
              "        [0., 0.]],\n",
              "\n",
              "       [[0., 0.],\n",
              "        [0., 0.]]])"
            ]
          },
          "metadata": {},
          "execution_count": 10
        }
      ]
    },
    {
      "cell_type": "markdown",
      "source": [
        "zeros는 0으로 채워주는 함수이다. "
      ],
      "metadata": {
        "id": "o_oNtywhibCb"
      }
    },
    {
      "cell_type": "markdown",
      "metadata": {
        "id": "0hQuDJ5g9gpE"
      },
      "source": [
        "### create random numbers"
      ]
    },
    {
      "cell_type": "code",
      "source": [
        "np.random.normal(0, 1, [2,3,4])"
      ],
      "metadata": {
        "id": "pCVnElBgan70",
        "outputId": "cf202e9f-c698-431d-9d17-11d758029d1d",
        "colab": {
          "base_uri": "https://localhost:8080/"
        }
      },
      "execution_count": 11,
      "outputs": [
        {
          "output_type": "execute_result",
          "data": {
            "text/plain": [
              "array([[[-0.69348948, -1.13867792,  0.34773395,  0.80568846],\n",
              "        [-0.389061  ,  0.92455464,  0.38388327, -1.37799231],\n",
              "        [-0.56621304,  0.52338614,  0.06231099, -0.10328785]],\n",
              "\n",
              "       [[-0.9040731 , -0.42774755, -1.1982886 , -1.97596749],\n",
              "        [ 3.13564749,  0.59080754, -1.13200784,  0.21413564],\n",
              "        [ 1.52477051, -1.12528924, -0.55601475, -1.30986165]]])"
            ]
          },
          "metadata": {},
          "execution_count": 11
        }
      ]
    },
    {
      "cell_type": "markdown",
      "source": [
        "random 숫자를 만들어주는 경우이다. 이럴때도 np가 쓰인다. np에 들어있는 함수를 사용하면 된다. normal이라는 함수이다. normal distribution의 nd array를 만들어준다. 첫 번째 숫자는 평균 값, 두 번째는 표준 편차 값, 세 번째는 구조의 형식이다. 3d array인 것을 알 수 있다. 2는 가장 큰 덩어리 2개이다. 3는 가장 작은 덩어리 3개이다. 4는 숫자 한개이다. "
      ],
      "metadata": {
        "id": "_xrc6uzwioZT"
      }
    },
    {
      "cell_type": "code",
      "metadata": {
        "id": "QRatmkx79otL"
      },
      "source": [
        "import matplotlib.pyplot as plt"
      ],
      "execution_count": 14,
      "outputs": []
    },
    {
      "cell_type": "markdown",
      "source": [
        ""
      ],
      "metadata": {
        "id": "Y14JbMO9jxX1"
      }
    },
    {
      "cell_type": "code",
      "metadata": {
        "id": "z1oOAB6dShBD",
        "colab": {
          "base_uri": "https://localhost:8080/",
          "height": 810
        },
        "outputId": "73f085ce-7305-455f-80e4-7cf8ec7a03ea"
      },
      "source": [
        "x = np.random.normal(0, 1, 100)\n",
        "print(x)\n",
        "plt.hist(x, bins=10)"
      ],
      "execution_count": 15,
      "outputs": [
        {
          "output_type": "stream",
          "name": "stdout",
          "text": [
            "[ 7.36050000e-01  6.66452088e-01  1.22442776e+00  2.94823480e-01\n",
            " -1.37300517e+00  9.41951582e-01 -1.10216906e+00  5.04430762e-01\n",
            "  1.33158782e+00  1.25361166e-01 -6.37301106e-01 -4.67678811e-01\n",
            "  1.95319941e-01 -4.60586472e-02 -8.89939092e-01 -6.04109820e-01\n",
            " -1.81008510e+00  1.56017631e+00  1.05549126e+00 -1.20216982e+00\n",
            "  1.24148060e+00 -3.65103840e-01  1.20159248e+00  4.93258042e-01\n",
            "  1.09708142e-01  1.20961490e+00  1.66720019e+00  1.20553633e+00\n",
            " -1.26372394e+00  1.63599363e+00 -5.51946366e-01  5.80224323e-02\n",
            " -2.50306855e-01 -8.46161666e-01 -1.18462257e+00 -5.55311565e-02\n",
            " -3.40561259e-01  1.58277503e+00 -8.12425185e-01  9.55958237e-02\n",
            "  2.50362478e-01 -1.16448994e+00 -7.07142239e-01  1.52287673e+00\n",
            " -6.61388824e-01  8.61642956e-01  1.36809301e+00 -4.72793905e-01\n",
            "  8.12308462e-01 -9.86670656e-01 -8.95672207e-01  1.01399250e+00\n",
            " -1.90357273e+00 -6.86582257e-01  1.21336953e-01 -1.29519631e+00\n",
            "  6.53858888e-01 -1.24745220e+00  1.16478495e-01 -1.85805008e+00\n",
            "  1.34861610e+00 -1.51957200e+00 -1.18021751e-01  2.69653598e+00\n",
            " -2.25732201e+00 -4.78760791e-01  8.12268680e-01 -1.38732697e-01\n",
            " -4.21577941e-01 -7.85892775e-01 -1.73041732e+00  5.85050982e-01\n",
            "  9.99029876e-01  7.50692840e-01 -3.82739715e-01 -1.06442601e-01\n",
            " -8.88894458e-02 -1.86269641e+00  3.04512306e-04  1.10193292e+00\n",
            " -1.49025600e-01  2.14941640e-02 -1.12942000e-01 -1.12221264e+00\n",
            "  1.89067373e+00  1.39624078e+00 -9.09119763e-01 -7.21665276e-02\n",
            "  8.83691004e-03  1.00235482e+00  6.07865606e-01 -1.03409017e+00\n",
            "  2.15406470e-01 -2.43288026e+00 -6.47831165e-01  3.39620907e-01\n",
            " -3.04251794e-02  1.28161787e+00 -3.98386846e-01  1.83947661e-01]\n"
          ]
        },
        {
          "output_type": "execute_result",
          "data": {
            "text/plain": [
              "(array([ 2.,  6., 13., 17., 22., 10., 13., 15.,  1.,  1.]),\n",
              " array([-2.43288026, -1.91993863, -1.40699701, -0.89405539, -0.38111376,\n",
              "         0.13182786,  0.64476949,  1.15771111,  1.67065273,  2.18359436,\n",
              "         2.69653598]),\n",
              " <a list of 10 Patch objects>)"
            ]
          },
          "metadata": {},
          "execution_count": 15
        },
        {
          "output_type": "display_data",
          "data": {
            "text/plain": [
              "<Figure size 432x288 with 1 Axes>"
            ],
            "image/png": "[encoded data removed]"
          },
          "metadata": {
            "needs_background": "light"
          }
        }
      ]
    },
    {
      "cell_type": "markdown",
      "source": [
        "긴 한줄의 숫자 100개를 만들어주고 있다. 1d array이다. 짧게 쓰기 위해서, plt로 받고 있다. bin는 통인데, 통을 10개 가져다 놓는다는 것이다. "
      ],
      "metadata": {
        "id": "7ZolFWcij4e1"
      }
    },
    {
      "cell_type": "markdown",
      "metadata": {
        "id": "G0exvwBbShBE"
      },
      "source": [
        "### generate a sine curve"
      ]
    },
    {
      "cell_type": "markdown",
      "source": [
        "이제 np를 가지고 사인 곡선을 만들고, matlotlib를 통해 그래프로 보여줄 것이다. "
      ],
      "metadata": {
        "id": "DMFZYlEClmZQ"
      }
    },
    {
      "cell_type": "code",
      "metadata": {
        "id": "HgQmRXzMShBE",
        "colab": {
          "base_uri": "https://localhost:8080/",
          "height": 283
        },
        "outputId": "a973126f-ec52-4bf0-ef28-3f7477023bf6"
      },
      "source": [
        "plt.figure()\n",
        "\n",
        "theta1 = np.linspace(0, 2*np.pi, 100)\n",
        "s1 = np.sin(theta1)\n",
        "theta2 = np.linspace(0, 2*np.pi, 100) + np.pi/2\n",
        "s2 = np.sin(theta2)\n",
        "\n",
        "plt.subplot(2, 1, 1) # (rows, columns, panel number)\n",
        "plt.plot(theta1, s1, '.')\n",
        "plt.subplot(2, 1, 2) # (rows, columns, panel number)\n",
        "plt.plot(theta2, s2, '.')"
      ],
      "execution_count": 16,
      "outputs": [
        {
          "output_type": "execute_result",
          "data": {
            "text/plain": [
              "[<matplotlib.lines.Line2D at 0x7f6feb1b59d0>]"
            ]
          },
          "metadata": {},
          "execution_count": 16
        },
        {
          "output_type": "display_data",
          "data": {
            "text/plain": [
              "<Figure size 432x288 with 2 Axes>"
            ],
            "image/png": "[encoded data removed]"
          },
          "metadata": {
            "needs_background": "light"
          }
        }
      ]
    },
    {
      "cell_type": "markdown",
      "source": [
        "정교한 figure을 만들고 있다. linspace는 0부터 2xnp.pi까지 100개의 숫자를 만들라는 것이다. np.pi는 파이이다. 즉, 0부터 2파이까지 100개의 숫자를 만드는 것이다. 그리고 2파이도 포함하는 것이다. theta 2는 하지만, 2분의 파이를 추가적으로 더하게 된다. 90도 만큼 더하게 된다. 90도에서 450도까지 가게 된다. 이렇게 해서 사인을 만들게 된다. 각도를 만든 후에, 사인 곡선을 만들 수 있다. theta 1, theta2에 모두 100개의 숫자가 있다. s1, s2의 숫자 역시 100개이다. subplot은 사진만큼 그리겠다는 것이다. 가로로 2줄, 세로로 1줄이다. 마지막 1은 첫 번째에 그림을 그리라는 것이다. \n",
        "plot에서는 실제로 그리는 것이다. 2개의 입력을 반드시 가져야 한다. 점으로 그리라는 명령이다. "
      ],
      "metadata": {
        "id": "6lHE7DEPltKa"
      }
    },
    {
      "cell_type": "code",
      "metadata": {
        "id": "TuH489v9BvQ7",
        "colab": {
          "base_uri": "https://localhost:8080/"
        },
        "outputId": "8821701a-6c1a-475b-b915-794b525e81c7"
      },
      "source": [
        "np.corrcoef(s1,s2)"
      ],
      "execution_count": 17,
      "outputs": [
        {
          "output_type": "execute_result",
          "data": {
            "text/plain": [
              "array([[1.00000000e+00, 2.41915449e-17],\n",
              "       [2.41915449e-17, 1.00000000e+00]])"
            ]
          },
          "metadata": {},
          "execution_count": 17
        }
      ]
    },
    {
      "cell_type": "markdown",
      "source": [
        "한학급에 10명이 있다고 치자. 각각 영어, 수학 점수를 받게 된다. 그것을 점으로 찍을 수도 있다. 찍고 나서 보면, 다양한 분포가 발생할 수도 있다. 반비례, 정비례가 나타날 수 있다. 비례한다는 것이 correlation이라고 한다. coef를 구하게 된다. 어느정도 비례하는지 구하는 것이다. -1부터 1까지 나온다. 양수는 정비례, 음수는 반비례이다. 점을 찍었는데, 매우 밀집할 수도 있고, 퍼져있을 수도 있다. 상관관계가 더 높은 것이 밀집한 것이다. r의 절대값이 1에 가까워질 수록 밀집하게 되는 것이고, 절대값이 0에 가까워질수록, 퍼져있는 것이다. s1과 s2의 correlation을 보는 것이다. np.corrcoef라는 함수가 있다. s1,s2를 입력 변수로 넣게 된다. 1값은 무시하면 된다. 나머지 2개는 같은 값이 나오게 된다. 2.419~e-17인데, e-17은 10의 -17승인 것이다. 한마디로 0이다. 두개를 correlation 시켰을 때 0이 나오는 것이다. "
      ],
      "metadata": {
        "id": "FI58T1VnpZQ2"
      }
    }
  ]
}