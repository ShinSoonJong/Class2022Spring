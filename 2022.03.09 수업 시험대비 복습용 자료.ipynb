{
  "nbformat": 4,
  "nbformat_minor": 0,
  "metadata": {
    "kernelspec": {
      "display_name": "Python 3",
      "language": "python",
      "name": "python3"
    },
    "language_info": {
      "codemirror_mode": {
        "name": "ipython",
        "version": 3
      },
      "file_extension": ".py",
      "mimetype": "text/x-python",
      "name": "python",
      "nbconvert_exporter": "python",
      "pygments_lexer": "ipython3",
      "version": "3.7.1"
    },
    "colab": {
      "name": "2022-03-09 수업",
      "provenance": [],
      "collapsed_sections": [],
      "include_colab_link": true
    }
  },
  "cells": [
    {
      "cell_type": "markdown",
      "metadata": {
        "id": "view-in-github",
        "colab_type": "text"
      },
      "source": [
        "<a href=\"https://colab.research.google.com/github/ShinSoonJong/Class2022Spring/blob/main/2022.03.09%20%EC%88%98%EC%97%85%20%EC%8B%9C%ED%97%98%EB%8C%80%EB%B9%84%20%EB%B3%B5%EC%8A%B5%EC%9A%A9%20%EC%9E%90%EB%A3%8C.ipynb\" target=\"_parent\"><img src=\"https://colab.research.google.com/assets/colab-badge.svg\" alt=\"Open In Colab\"/></a>"
      ]
    },
    {
      "cell_type": "markdown",
      "source": [
        "오늘은 python의 기초를 배울 것이다. 코딩에는 1, 변수, 2, 문법(조건,반복), 3, 함수가 중요하다고 볼 수 있다. 4, 패키지가 있다. 패키지는 특정 목적으로, 여러가지 함수를 모아놓은 것이다. library라고 한다. 변수는 variable, 문법은 syntax, 함수는 function이다. 패키지는 불러오게 되는데, import해서 불러오게 된다. 기본적인 패키지들을 배울 것이다. 1, numpy는 숫자와 관련된 것이다. 행렬화, 구조화 해주는 것이다. 2, pandas는 액셀처리해주는 것이다. 3, matplotlib은 시각화해주는 것이다. 4, seaborn은 시각화해주는 것이다. 5, scikit-learn은 머싱러닝에 많이 쓰인다. 이러한 모든 것들은 기본적으로 다룰 것이다. 6, requests, 7, urllib3이다. 다른 웹사이트에서 정보를 가져올 때 필수적인 것들이다. 8, NLTK 은 텍스트를 처리하는 모든 것들이 들어 있다. 9, pillow는 이미지 파일을 불러오고 저장하는 등의 역할을 한다. 10, librosa는 소리와 관련된 것이다. 소리를 조작하고, 출력하는 등의 역할을 하게 된다. \n",
        "패키지는 import해야 쓸 수 있다. \n",
        "programming language에서 language는 words로 이루어져 있다. 한 word는 뜻을 담고 있다. meaning은 content라고 할 수 있다. 가장 기본이 word이고 그 word는 meaning을 가지고 있다. word가 variable이고, content가 등호 다음에 붙는 것이다. 단어를 만드는 과정이 변수하나를 만드는 과정인 것이다. word는 조합하게 되는데, 그 과정을 syntax라고 한다. syntax는 조건문, 반복문으로 이루어져 있다. 조건문은 if, 반복문은 for을 쓰게 된다. \n",
        "변수는 variables인데, 1, numbers와 2, string으로 이루어져 있다. "
      ],
      "metadata": {
        "id": "QB0FEntOh3pG"
      }
    },
    {
      "cell_type": "code",
      "metadata": {
        "id": "goAyoU7vRheI",
        "outputId": "d88f7c3c-ba5e-479b-fdc8-c77394d288d0",
        "colab": {
          "base_uri": "https://localhost:8080/"
        }
      },
      "source": [
        "a = 1; print(type(a))"
      ],
      "execution_count": null,
      "outputs": [
        {
          "output_type": "stream",
          "name": "stdout",
          "text": [
            "<class 'int'>\n"
          ]
        }
      ]
    },
    {
      "cell_type": "markdown",
      "source": [
        "a라는 변수에 1을 넣는다는 이야기이다. type은 숫자인데, 숫자 중에서도 소수점 없는 것, 있는 것이 있다. 소수점 없는 것은 정수이다. 그것이 int이다. print는 보여달라는 것이다. a 변수의 type을 보여주고 있다. 그냥 print(a)를 하게 되면 1이 출력되게 된다. 즉, print하게 되면 그 변수 안의 내용이 나오게 되는 것이다. 변수는 숫자와 string이 있다. 숫자에는 정수와 실 수가 있다. 실수는 소수점이 찍히면 만들어진다. \n",
        "\n",
        "\n",
        "\n",
        "\n"
      ],
      "metadata": {
        "id": "Vv5cFnxWl_TY"
      }
    },
    {
      "cell_type": "code",
      "metadata": {
        "id": "txxnoqJuRheJ",
        "outputId": "9895022d-83bc-4bbd-c873-35ad469a5cff",
        "colab": {
          "base_uri": "https://localhost:8080/"
        }
      },
      "source": [
        "a = 1.1; print(type(a))"
      ],
      "execution_count": null,
      "outputs": [
        {
          "output_type": "stream",
          "name": "stdout",
          "text": [
            "<class 'float'>\n"
          ]
        }
      ]
    },
    {
      "cell_type": "markdown",
      "source": [
        "이제는 a라는 변수안에 실수가 들어가 있다. float는 실수를 의미하게 된다. 1.0 역시 소수점이 있기 때문에 실수이다. 1과 1.0은 다르다. "
      ],
      "metadata": {
        "id": "EpcgGFvfpOTU"
      }
    },
    {
      "cell_type": "code",
      "metadata": {
        "id": "SyP0PB86RheL",
        "outputId": "83435f60-56f3-44a3-8c08-6af57ae14e77",
        "colab": {
          "base_uri": "https://localhost:8080/"
        }
      },
      "source": [
        "a = '123'; print(type(a)); print(a[1])"
      ],
      "execution_count": null,
      "outputs": [
        {
          "output_type": "stream",
          "name": "stdout",
          "text": [
            "<class 'str'>\n",
            "2\n"
          ]
        }
      ]
    },
    {
      "cell_type": "markdown",
      "source": [
        "a라는 변수에 string이 들어가 있다. 따움표를 활용해서 나타내고 있다. 당연히 type은 string이다. "
      ],
      "metadata": {
        "id": "54k5f8cdpmWI"
      }
    },
    {
      "cell_type": "code",
      "metadata": {
        "id": "EKYj0dvIHPo0",
        "outputId": "57b85607-7535-494c-9579-3b3d21e66765",
        "colab": {
          "base_uri": "https://localhost:8080/"
        }
      },
      "source": [
        "a = 'hello'; print(type(a)); print(a[1])"
      ],
      "execution_count": null,
      "outputs": [
        {
          "output_type": "stream",
          "name": "stdout",
          "text": [
            "<class 'str'>\n",
            "e\n"
          ]
        }
      ]
    },
    {
      "cell_type": "markdown",
      "source": [
        "글자는 당연히 string이다. 따움표를 사용해주어야 한다. "
      ],
      "metadata": {
        "id": "hZ8gJVM4p5sV"
      }
    },
    {
      "cell_type": "code",
      "metadata": {
        "id": "Df6PhU-tHXr2",
        "outputId": "298bf02e-1b4c-4883-f086-809d47be5694",
        "colab": {
          "base_uri": "https://localhost:8080/"
        }
      },
      "source": [
        "a = [1, 2, 3, 4]; print(type(a)); print(a[0])"
      ],
      "execution_count": null,
      "outputs": [
        {
          "output_type": "stream",
          "name": "stdout",
          "text": [
            "<class 'list'>\n",
            "1\n"
          ]
        }
      ]
    },
    {
      "cell_type": "markdown",
      "source": [
        "변수는 숫자, string이 있는데, list라는 것도 있다. 여러개를 담을 때 사용하는 것이다. 대괄호를 사용하게 된다. 숫자, 문자 모두 대괄호 안에 막 들어갈 수 있다. type은 당연히 list이다. 4가지의 아이템이 들어가있다. 4가지의 아이템중 몇개만 부분적으로 쓸 수 있다. a[0]은 a의 0번째를 의미한다. python은 0번째부터 시작하게 된다. 꼭 print안해줘도 결과값은 나올 수 있다. 맨 마지막 줄에 있는 것은 print을 안 작성해줘도 된다. a[:]은 전부다를 의미한다. \n",
        "a[1:3] 은 첫 번째부터, 두 번째까지를 의미한다. 뒤에 있는 숫자는 포함하지 않게 된다. 즉, 3을 적게되면 세 번째는 포함하지 않는다는 것이다. 첫 번째 숫자는 포함하게 된다. a[2:]은 두 번째부터 끝까지를 의미하게 된다. a[2:-1]에서 -1은 맨끝항이다. 따라서 마지막 항은 포함하지 않게 되는 것이다. a[1:5]에서 5번째는 포함하지 않으므로, 4개의 숫자가 나오게 되는 것이다. a[:5]는 처음부터 4번째까지라는 것이다. 5 번째는 포함하지 않기 때문이다. "
      ],
      "metadata": {
        "id": "VsJVfN9-qEfa"
      }
    },
    {
      "cell_type": "code",
      "metadata": {
        "id": "DfS-gknCRheL",
        "outputId": "4e2b66e4-9d6c-4678-ff9e-69e11e65503f",
        "colab": {
          "base_uri": "https://localhost:8080/"
        }
      },
      "source": [
        "a = [1,'a', [3, '4']]; print(type(a)); print(a[0]); print(a[1]); print(a[2]); print(a[2][1])"
      ],
      "execution_count": null,
      "outputs": [
        {
          "output_type": "stream",
          "name": "stdout",
          "text": [
            "<class 'list'>\n",
            "1\n",
            "a\n",
            "[3, '4']\n",
            "4\n"
          ]
        }
      ]
    },
    {
      "cell_type": "markdown",
      "source": [
        "숫자 뿐만 아니라, string도 들어가게 되고, list 안에 list도 들어가 있다. 그 들어간 list는 숫자와 string으로 이루어져 있다. 크게보면 당연히, list라는 type이고, 3가지의 아이템이 들어가 있다. a[2][1]은 2번째에 있는 list에서 1번째에 있는 4가 나오게 된다. \n",
        "string 중에서도 특정 부분만 나오게 하고 싶은 경우가 있다. list의 경우와 똑같다. \n",
        "a= 'abcdef123 ' 이라면,  a[:]을 하게되면 전부다 나올 것이다. a[:3]은 처음부터 2번째까지 나오게 될 것이다. a[3:-1]은 3은 포함되고 마지막 항은 포함되지 않을 것이다.\n",
        "list와 string은 방법이 같은 것이다.  "
      ],
      "metadata": {
        "id": "KcmhLmwVqeea"
      }
    },
    {
      "cell_type": "code",
      "metadata": {
        "id": "2sivfloGRheM",
        "outputId": "905893be-ec01-42da-81c1-222e5378bad4",
        "colab": {
          "base_uri": "https://localhost:8080/"
        }
      },
      "source": [
        "a =\t{\"a\": \"apple\", \"b\": \"orange\", \"c\": 2014}\n",
        "print(type(a))\n",
        "print(a[\"a\"])"
      ],
      "execution_count": null,
      "outputs": [
        {
          "output_type": "stream",
          "name": "stdout",
          "text": [
            "<class 'dict'>\n",
            "apple\n"
          ]
        }
      ]
    },
    {
      "cell_type": "markdown",
      "source": [
        "변수에는 dict라는 것도 존재한다. tuple은 list와 거의 같은데, 대괄호가 아닌, 그냥 괄호를 사용하게 된다. 하지만, tuple은 item의 내용을 바꾸지 못하게 된다. \n",
        "dict의 구조를 잘 살펴보면, 중괄호가 있다. 3가지의 아이템이 있는 것을 볼 수 있다. list들은 나열하는 것이라면, dict는 쌍으로 되어 있다. key와 value로 되어 있다. 사전처럼 만들어 놓은 것이다. list와는 다르게 순서가 중요한 것이 아니다. 앞에 있는 key이 중요하다. a[\"a\"] 라는 형식으로 나타내주어야 한다. key값 역시 변수처럼, 마음대로 값을 바꾸어주어야 한다. key 값에 숫자가 와도 된다. "
      ],
      "metadata": {
        "id": "2ZmktDqhuERH"
      }
    }
  ]
}